{
 "cells": [
  {
   "cell_type": "markdown",
   "metadata": {},
   "source": [
    "**Текст задания:**\n",
    "1. А/В тестирование\n",
    "Одной из основных задач аналитика в нашей команде является корректное проведение экспериментов. Для этого мы применяем метод A/B–тестирования. В ходе тестирования одной гипотезы целевой группе была предложена новая механика оплаты услуг на сайте, у контрольной группы оставалась базовая механика. В качестве задания Вам необходимо проанализировать итоги эксперимента и сделать вывод, стоит ли запускать новую механику оплаты на всех пользователей.   \n",
    "\n",
    "2. SQL   \n",
    "2.1 Очень усердные ученики.\n",
    "Образовательные курсы состоят из различных уроков, каждый из которых состоит из нескольких маленьких заданий. Каждое такое маленькое задание называется \"горошиной\".\n",
    "Назовём очень усердным учеником того пользователя, который хотя бы раз за текущий месяц правильно решил 20 горошин.\n",
    "Необходимо написать оптимальный запрос, который даст информацию о количестве очень усердных студентов.NB! Под усердным студентом мы понимаем студента, который правильно решил 20 задач за текущий месяц.   \n",
    "\n"
   ]
  },
  {
   "cell_type": "markdown",
   "metadata": {},
   "source": [
    "![ы](C:\\Users\\1\\Desktop\\Code\\pics\\peas_karpov_courses.png)"
   ]
  },
  {
   "cell_type": "markdown",
   "metadata": {},
   "source": [
    "# 1 задание. A/B-тестирование\n",
    "## Загрузка данных, EDA и предобработка"
   ]
  },
  {
   "cell_type": "code",
   "execution_count": 1,
   "metadata": {},
   "outputs": [],
   "source": [
    "import pandas as pd\n",
    "import seaborn as sns\n",
    "from matplotlib import pyplot as plt\n",
    "import scipy.stats as st\n",
    "import pingouin as pg\n",
    "import numpy as np\n",
    "\n",
    "import requests \n",
    "import urllib\n",
    "import json\n",
    "from urllib.parse import urlencode "
   ]
  },
  {
   "cell_type": "markdown",
   "metadata": {},
   "source": [
    "Реализуем функцию для считывания файлов с яндекс.диска"
   ]
  },
  {
   "cell_type": "code",
   "execution_count": 2,
   "metadata": {},
   "outputs": [],
   "source": [
    "def get_ya_disk(public_key):\n",
    "    \n",
    "    base_url = 'https://cloud-api.yandex.net/v1/disk/public/resources/download?'\n",
    "    public_key = public_key\n",
    "\n",
    "    final_url = base_url + urlencode(dict(public_key=public_key))\n",
    "    response = requests.get(final_url)\n",
    "    download_url = response.json()['href']\n",
    "    \n",
    "    return download_url"
   ]
  },
  {
   "cell_type": "code",
   "execution_count": 3,
   "metadata": {},
   "outputs": [
    {
     "name": "stderr",
     "output_type": "stream",
     "text": [
      "/opt/tljh/user/lib/python3.7/site-packages/outdated/utils.py:18: OutdatedCacheFailedWarning: Failed to use cache while checking for outdated package.\n",
      "Set the environment variable OUTDATED_RAISE_EXCEPTION=1 for a full traceback.\n",
      "Set the environment variable OUTDATED_IGNORE=1 to disable these warnings.\n",
      "  **kwargs\n",
      "/opt/tljh/user/lib/python3.7/site-packages/outdated/utils.py:18: OutdatedPackageWarning: The package pingouin is out of date. Your version is 0.4.0, the latest is 0.5.3.\n",
      "Set the environment variable OUTDATED_IGNORE=1 to disable these warnings.\n",
      "  **kwargs\n",
      "/opt/tljh/user/lib/python3.7/site-packages/outdated/utils.py:18: OutdatedPackageWarning: The package outdated is out of date. Your version is 0.2.1, the latest is 0.2.2.\n",
      "Set the environment variable OUTDATED_IGNORE=1 to disable these warnings.\n",
      "  **kwargs\n"
     ]
    }
   ],
   "source": [
    "groups = pd.read_csv(get_ya_disk('https://disk.yandex.ru/d/UhyYx41rTt3clQ'), sep=';')"
   ]
  },
  {
   "cell_type": "code",
   "execution_count": 4,
   "metadata": {},
   "outputs": [
    {
     "data": {
      "text/html": [
       "<div>\n",
       "<style scoped>\n",
       "    .dataframe tbody tr th:only-of-type {\n",
       "        vertical-align: middle;\n",
       "    }\n",
       "\n",
       "    .dataframe tbody tr th {\n",
       "        vertical-align: top;\n",
       "    }\n",
       "\n",
       "    .dataframe thead th {\n",
       "        text-align: right;\n",
       "    }\n",
       "</style>\n",
       "<table border=\"1\" class=\"dataframe\">\n",
       "  <thead>\n",
       "    <tr style=\"text-align: right;\">\n",
       "      <th></th>\n",
       "      <th>id</th>\n",
       "      <th>grp</th>\n",
       "    </tr>\n",
       "  </thead>\n",
       "  <tbody>\n",
       "    <tr>\n",
       "      <th>0</th>\n",
       "      <td>1489</td>\n",
       "      <td>B</td>\n",
       "    </tr>\n",
       "    <tr>\n",
       "      <th>1</th>\n",
       "      <td>1627</td>\n",
       "      <td>A</td>\n",
       "    </tr>\n",
       "    <tr>\n",
       "      <th>2</th>\n",
       "      <td>1768</td>\n",
       "      <td>B</td>\n",
       "    </tr>\n",
       "    <tr>\n",
       "      <th>3</th>\n",
       "      <td>1783</td>\n",
       "      <td>B</td>\n",
       "    </tr>\n",
       "    <tr>\n",
       "      <th>4</th>\n",
       "      <td>1794</td>\n",
       "      <td>A</td>\n",
       "    </tr>\n",
       "    <tr>\n",
       "      <th>...</th>\n",
       "      <td>...</td>\n",
       "      <td>...</td>\n",
       "    </tr>\n",
       "    <tr>\n",
       "      <th>74479</th>\n",
       "      <td>5692459</td>\n",
       "      <td>B</td>\n",
       "    </tr>\n",
       "    <tr>\n",
       "      <th>74480</th>\n",
       "      <td>5692572</td>\n",
       "      <td>B</td>\n",
       "    </tr>\n",
       "    <tr>\n",
       "      <th>74481</th>\n",
       "      <td>5692865</td>\n",
       "      <td>B</td>\n",
       "    </tr>\n",
       "    <tr>\n",
       "      <th>74482</th>\n",
       "      <td>5693667</td>\n",
       "      <td>B</td>\n",
       "    </tr>\n",
       "    <tr>\n",
       "      <th>74483</th>\n",
       "      <td>5694419</td>\n",
       "      <td>B</td>\n",
       "    </tr>\n",
       "  </tbody>\n",
       "</table>\n",
       "<p>74484 rows × 2 columns</p>\n",
       "</div>"
      ],
      "text/plain": [
       "            id grp\n",
       "0         1489   B\n",
       "1         1627   A\n",
       "2         1768   B\n",
       "3         1783   B\n",
       "4         1794   A\n",
       "...        ...  ..\n",
       "74479  5692459   B\n",
       "74480  5692572   B\n",
       "74481  5692865   B\n",
       "74482  5693667   B\n",
       "74483  5694419   B\n",
       "\n",
       "[74484 rows x 2 columns]"
      ]
     },
     "execution_count": 4,
     "metadata": {},
     "output_type": "execute_result"
    }
   ],
   "source": [
    "groups"
   ]
  },
  {
   "cell_type": "markdown",
   "metadata": {},
   "source": [
    "Посмотрим на процент отсутствующих значений в таблице с группами, соотношение групп и общее количество студентов"
   ]
  },
  {
   "cell_type": "code",
   "execution_count": 5,
   "metadata": {},
   "outputs": [
    {
     "name": "stdout",
     "output_type": "stream",
     "text": [
      "Процент отсутствующих значений по колонкам:\n",
      "id     0.0\n",
      "grp    0.0\n",
      "dtype: float64\n",
      "\n",
      "Уникальных айди: 74484\n",
      "\n",
      "Количество студентов по группам:\n",
      "B    59813\n",
      "A    14671\n",
      "Name: grp, dtype: int64\n",
      "\n",
      "Процентное соотношение групп:\n",
      "B    0.803032\n",
      "A    0.196968\n",
      "Name: grp, dtype: float64\n"
     ]
    }
   ],
   "source": [
    "print('Процент отсутствующих значений по колонкам:', groups.isna().mean(), sep='\\n')\n",
    "print('\\nУникальных айди:', groups['id'].nunique())\n",
    "print('\\nКоличество студентов по группам:', groups['grp'].value_counts(), sep='\\n')\n",
    "print('\\nПроцентное соотношение групп:', groups['grp'].value_counts(normalize=True), sep='\\n')"
   ]
  },
  {
   "cell_type": "code",
   "execution_count": 6,
   "metadata": {},
   "outputs": [
    {
     "data": {
      "text/html": [
       "<div>\n",
       "<style scoped>\n",
       "    .dataframe tbody tr th:only-of-type {\n",
       "        vertical-align: middle;\n",
       "    }\n",
       "\n",
       "    .dataframe tbody tr th {\n",
       "        vertical-align: top;\n",
       "    }\n",
       "\n",
       "    .dataframe thead th {\n",
       "        text-align: right;\n",
       "    }\n",
       "</style>\n",
       "<table border=\"1\" class=\"dataframe\">\n",
       "  <thead>\n",
       "    <tr style=\"text-align: right;\">\n",
       "      <th></th>\n",
       "      <th>id</th>\n",
       "      <th>grp</th>\n",
       "    </tr>\n",
       "  </thead>\n",
       "  <tbody>\n",
       "    <tr>\n",
       "      <th>0</th>\n",
       "      <td>5694584</td>\n",
       "      <td>B</td>\n",
       "    </tr>\n",
       "    <tr>\n",
       "      <th>1</th>\n",
       "      <td>5694830</td>\n",
       "      <td>B</td>\n",
       "    </tr>\n",
       "    <tr>\n",
       "      <th>2</th>\n",
       "      <td>5695057</td>\n",
       "      <td>B</td>\n",
       "    </tr>\n",
       "    <tr>\n",
       "      <th>3</th>\n",
       "      <td>5698872</td>\n",
       "      <td>B</td>\n",
       "    </tr>\n",
       "    <tr>\n",
       "      <th>4</th>\n",
       "      <td>5699067</td>\n",
       "      <td>B</td>\n",
       "    </tr>\n",
       "    <tr>\n",
       "      <th>...</th>\n",
       "      <td>...</td>\n",
       "      <td>...</td>\n",
       "    </tr>\n",
       "    <tr>\n",
       "      <th>87</th>\n",
       "      <td>200247820</td>\n",
       "      <td>B</td>\n",
       "    </tr>\n",
       "    <tr>\n",
       "      <th>88</th>\n",
       "      <td>201032527</td>\n",
       "      <td>B</td>\n",
       "    </tr>\n",
       "    <tr>\n",
       "      <th>89</th>\n",
       "      <td>201067612</td>\n",
       "      <td>B</td>\n",
       "    </tr>\n",
       "    <tr>\n",
       "      <th>90</th>\n",
       "      <td>201067653</td>\n",
       "      <td>B</td>\n",
       "    </tr>\n",
       "    <tr>\n",
       "      <th>91</th>\n",
       "      <td>201067659</td>\n",
       "      <td>B</td>\n",
       "    </tr>\n",
       "  </tbody>\n",
       "</table>\n",
       "<p>92 rows × 2 columns</p>\n",
       "</div>"
      ],
      "text/plain": [
       "           id grp\n",
       "0     5694584   B\n",
       "1     5694830   B\n",
       "2     5695057   B\n",
       "3     5698872   B\n",
       "4     5699067   B\n",
       "..        ...  ..\n",
       "87  200247820   B\n",
       "88  201032527   B\n",
       "89  201067612   B\n",
       "90  201067653   B\n",
       "91  201067659   B\n",
       "\n",
       "[92 rows x 2 columns]"
      ]
     },
     "execution_count": 6,
     "metadata": {},
     "output_type": "execute_result"
    }
   ],
   "source": [
    "groups_add = pd.read_csv(get_ya_disk('https://disk.yandex.ru/d/5Kxrz02m3IBUwQ'))\n",
    "groups_add"
   ]
  },
  {
   "cell_type": "markdown",
   "metadata": {},
   "source": [
    "Посмотрим на этом датафрейме то же самое, что и на предыдущем, а также, есть ли повторяющиеся айди в этих двух датафреймах"
   ]
  },
  {
   "cell_type": "code",
   "execution_count": 7,
   "metadata": {},
   "outputs": [
    {
     "name": "stdout",
     "output_type": "stream",
     "text": [
      "Процент отсутствующих значений по колонкам:\n",
      "id     0.0\n",
      "grp    0.0\n",
      "dtype: float64\n",
      "\n",
      "Уникальных айди: 92\n",
      "\n",
      "Количество студентов по группам:\n",
      "B    70\n",
      "A    22\n",
      "Name: grp, dtype: int64\n",
      "\n",
      "Процентное соотношение групп:\n",
      "B    0.76087\n",
      "A    0.23913\n",
      "Name: grp, dtype: float64\n",
      "\n",
      "Количество пересекающихся айди: 0\n"
     ]
    }
   ],
   "source": [
    "print('Процент отсутствующих значений по колонкам:', groups.isna().mean(), sep='\\n')\n",
    "print('\\nУникальных айди:', groups_add['id'].nunique())\n",
    "print('\\nКоличество студентов по группам:', groups_add['grp'].value_counts(), sep='\\n')\n",
    "print('\\nПроцентное соотношение групп:', groups_add['grp'].value_counts(normalize=True), sep='\\n')\n",
    "print('\\nКоличество пересекающихся айди:', groups_add['id'].isin(groups['id']).sum())"
   ]
  },
  {
   "cell_type": "markdown",
   "metadata": {},
   "source": [
    "Можно склеить два эти датафрейма - второй просто дополняет первый"
   ]
  },
  {
   "cell_type": "code",
   "execution_count": 8,
   "metadata": {},
   "outputs": [
    {
     "data": {
      "text/html": [
       "<div>\n",
       "<style scoped>\n",
       "    .dataframe tbody tr th:only-of-type {\n",
       "        vertical-align: middle;\n",
       "    }\n",
       "\n",
       "    .dataframe tbody tr th {\n",
       "        vertical-align: top;\n",
       "    }\n",
       "\n",
       "    .dataframe thead th {\n",
       "        text-align: right;\n",
       "    }\n",
       "</style>\n",
       "<table border=\"1\" class=\"dataframe\">\n",
       "  <thead>\n",
       "    <tr style=\"text-align: right;\">\n",
       "      <th></th>\n",
       "      <th>id</th>\n",
       "      <th>grp</th>\n",
       "    </tr>\n",
       "  </thead>\n",
       "  <tbody>\n",
       "    <tr>\n",
       "      <th>0</th>\n",
       "      <td>1489</td>\n",
       "      <td>B</td>\n",
       "    </tr>\n",
       "    <tr>\n",
       "      <th>1</th>\n",
       "      <td>1627</td>\n",
       "      <td>A</td>\n",
       "    </tr>\n",
       "    <tr>\n",
       "      <th>2</th>\n",
       "      <td>1768</td>\n",
       "      <td>B</td>\n",
       "    </tr>\n",
       "    <tr>\n",
       "      <th>3</th>\n",
       "      <td>1783</td>\n",
       "      <td>B</td>\n",
       "    </tr>\n",
       "    <tr>\n",
       "      <th>4</th>\n",
       "      <td>1794</td>\n",
       "      <td>A</td>\n",
       "    </tr>\n",
       "    <tr>\n",
       "      <th>...</th>\n",
       "      <td>...</td>\n",
       "      <td>...</td>\n",
       "    </tr>\n",
       "    <tr>\n",
       "      <th>87</th>\n",
       "      <td>200247820</td>\n",
       "      <td>B</td>\n",
       "    </tr>\n",
       "    <tr>\n",
       "      <th>88</th>\n",
       "      <td>201032527</td>\n",
       "      <td>B</td>\n",
       "    </tr>\n",
       "    <tr>\n",
       "      <th>89</th>\n",
       "      <td>201067612</td>\n",
       "      <td>B</td>\n",
       "    </tr>\n",
       "    <tr>\n",
       "      <th>90</th>\n",
       "      <td>201067653</td>\n",
       "      <td>B</td>\n",
       "    </tr>\n",
       "    <tr>\n",
       "      <th>91</th>\n",
       "      <td>201067659</td>\n",
       "      <td>B</td>\n",
       "    </tr>\n",
       "  </tbody>\n",
       "</table>\n",
       "<p>74576 rows × 2 columns</p>\n",
       "</div>"
      ],
      "text/plain": [
       "           id grp\n",
       "0        1489   B\n",
       "1        1627   A\n",
       "2        1768   B\n",
       "3        1783   B\n",
       "4        1794   A\n",
       "..        ...  ..\n",
       "87  200247820   B\n",
       "88  201032527   B\n",
       "89  201067612   B\n",
       "90  201067653   B\n",
       "91  201067659   B\n",
       "\n",
       "[74576 rows x 2 columns]"
      ]
     },
     "execution_count": 8,
     "metadata": {},
     "output_type": "execute_result"
    }
   ],
   "source": [
    "groups_full = pd.concat([groups, groups_add])\n",
    "groups_full"
   ]
  },
  {
   "cell_type": "code",
   "execution_count": 9,
   "metadata": {},
   "outputs": [
    {
     "data": {
      "text/html": [
       "<div>\n",
       "<style scoped>\n",
       "    .dataframe tbody tr th:only-of-type {\n",
       "        vertical-align: middle;\n",
       "    }\n",
       "\n",
       "    .dataframe tbody tr th {\n",
       "        vertical-align: top;\n",
       "    }\n",
       "\n",
       "    .dataframe thead th {\n",
       "        text-align: right;\n",
       "    }\n",
       "</style>\n",
       "<table border=\"1\" class=\"dataframe\">\n",
       "  <thead>\n",
       "    <tr style=\"text-align: right;\">\n",
       "      <th></th>\n",
       "      <th>student_id</th>\n",
       "    </tr>\n",
       "  </thead>\n",
       "  <tbody>\n",
       "    <tr>\n",
       "      <th>0</th>\n",
       "      <td>581585</td>\n",
       "    </tr>\n",
       "    <tr>\n",
       "      <th>1</th>\n",
       "      <td>5723133</td>\n",
       "    </tr>\n",
       "    <tr>\n",
       "      <th>2</th>\n",
       "      <td>3276743</td>\n",
       "    </tr>\n",
       "    <tr>\n",
       "      <th>3</th>\n",
       "      <td>4238589</td>\n",
       "    </tr>\n",
       "    <tr>\n",
       "      <th>4</th>\n",
       "      <td>4475369</td>\n",
       "    </tr>\n",
       "    <tr>\n",
       "      <th>...</th>\n",
       "      <td>...</td>\n",
       "    </tr>\n",
       "    <tr>\n",
       "      <th>8336</th>\n",
       "      <td>1794344</td>\n",
       "    </tr>\n",
       "    <tr>\n",
       "      <th>8337</th>\n",
       "      <td>296883</td>\n",
       "    </tr>\n",
       "    <tr>\n",
       "      <th>8338</th>\n",
       "      <td>3598448</td>\n",
       "    </tr>\n",
       "    <tr>\n",
       "      <th>8339</th>\n",
       "      <td>3610547</td>\n",
       "    </tr>\n",
       "    <tr>\n",
       "      <th>8340</th>\n",
       "      <td>205705</td>\n",
       "    </tr>\n",
       "  </tbody>\n",
       "</table>\n",
       "<p>8341 rows × 1 columns</p>\n",
       "</div>"
      ],
      "text/plain": [
       "      student_id\n",
       "0         581585\n",
       "1        5723133\n",
       "2        3276743\n",
       "3        4238589\n",
       "4        4475369\n",
       "...          ...\n",
       "8336     1794344\n",
       "8337      296883\n",
       "8338     3598448\n",
       "8339     3610547\n",
       "8340      205705\n",
       "\n",
       "[8341 rows x 1 columns]"
      ]
     },
     "execution_count": 9,
     "metadata": {},
     "output_type": "execute_result"
    }
   ],
   "source": [
    "active_studs = pd.read_csv(get_ya_disk('https://disk.yandex.ru/d/Tbs44Bm6H_FwFQ'))\n",
    "active_studs"
   ]
  },
  {
   "cell_type": "markdown",
   "metadata": {},
   "source": [
    "На этом датафрейме важно проверить количество уникальных айди и пропущенные значения.   \n",
    "Предыдущий датафрейм представляет собой разделение всех пользователей на две группы. Этот датафрейм содержит только тех пользователей, которые приняли участие в эксперименте. Поэтому также нужно проверить, что для каждого из них определена группа."
   ]
  },
  {
   "cell_type": "code",
   "execution_count": 10,
   "metadata": {},
   "outputs": [
    {
     "name": "stdout",
     "output_type": "stream",
     "text": [
      "Процент отсутствующих значений:\n",
      "student_id    0.0\n",
      "dtype: float64\n",
      "\n",
      "Уникальных айди: 8341\n",
      "\n",
      "Количество студентов, группа которых определена: 8341\n"
     ]
    }
   ],
   "source": [
    "print('Процент отсутствующих значений:', active_studs.isna().mean(), sep='\\n')\n",
    "print('\\nУникальных айди:', active_studs['student_id'].nunique())\n",
    "print('\\nКоличество студентов, группа которых определена:', active_studs['student_id'].isin(groups_full['id']).sum())"
   ]
  },
  {
   "cell_type": "code",
   "execution_count": 11,
   "metadata": {},
   "outputs": [
    {
     "data": {
      "text/html": [
       "<div>\n",
       "<style scoped>\n",
       "    .dataframe tbody tr th:only-of-type {\n",
       "        vertical-align: middle;\n",
       "    }\n",
       "\n",
       "    .dataframe tbody tr th {\n",
       "        vertical-align: top;\n",
       "    }\n",
       "\n",
       "    .dataframe thead th {\n",
       "        text-align: right;\n",
       "    }\n",
       "</style>\n",
       "<table border=\"1\" class=\"dataframe\">\n",
       "  <thead>\n",
       "    <tr style=\"text-align: right;\">\n",
       "      <th></th>\n",
       "      <th>student_id</th>\n",
       "      <th>rev</th>\n",
       "    </tr>\n",
       "  </thead>\n",
       "  <tbody>\n",
       "    <tr>\n",
       "      <th>0</th>\n",
       "      <td>1627</td>\n",
       "      <td>990.0</td>\n",
       "    </tr>\n",
       "    <tr>\n",
       "      <th>1</th>\n",
       "      <td>3185</td>\n",
       "      <td>690.0</td>\n",
       "    </tr>\n",
       "    <tr>\n",
       "      <th>2</th>\n",
       "      <td>25973</td>\n",
       "      <td>690.0</td>\n",
       "    </tr>\n",
       "    <tr>\n",
       "      <th>3</th>\n",
       "      <td>26280</td>\n",
       "      <td>690.0</td>\n",
       "    </tr>\n",
       "    <tr>\n",
       "      <th>4</th>\n",
       "      <td>100300</td>\n",
       "      <td>990.0</td>\n",
       "    </tr>\n",
       "    <tr>\n",
       "      <th>...</th>\n",
       "      <td>...</td>\n",
       "      <td>...</td>\n",
       "    </tr>\n",
       "    <tr>\n",
       "      <th>536</th>\n",
       "      <td>5645737</td>\n",
       "      <td>1900.0</td>\n",
       "    </tr>\n",
       "    <tr>\n",
       "      <th>537</th>\n",
       "      <td>5651566</td>\n",
       "      <td>1900.0</td>\n",
       "    </tr>\n",
       "    <tr>\n",
       "      <th>538</th>\n",
       "      <td>5662322</td>\n",
       "      <td>1900.0</td>\n",
       "    </tr>\n",
       "    <tr>\n",
       "      <th>539</th>\n",
       "      <td>5681918</td>\n",
       "      <td>1900.0</td>\n",
       "    </tr>\n",
       "    <tr>\n",
       "      <th>540</th>\n",
       "      <td>5740903</td>\n",
       "      <td>1900.0</td>\n",
       "    </tr>\n",
       "  </tbody>\n",
       "</table>\n",
       "<p>541 rows × 2 columns</p>\n",
       "</div>"
      ],
      "text/plain": [
       "     student_id     rev\n",
       "0          1627   990.0\n",
       "1          3185   690.0\n",
       "2         25973   690.0\n",
       "3         26280   690.0\n",
       "4        100300   990.0\n",
       "..          ...     ...\n",
       "536     5645737  1900.0\n",
       "537     5651566  1900.0\n",
       "538     5662322  1900.0\n",
       "539     5681918  1900.0\n",
       "540     5740903  1900.0\n",
       "\n",
       "[541 rows x 2 columns]"
      ]
     },
     "execution_count": 11,
     "metadata": {},
     "output_type": "execute_result"
    }
   ],
   "source": [
    "checks = pd.read_csv(get_ya_disk('https://disk.yandex.ru/d/pH1q-VqcxXjsVA'), sep=';')\n",
    "checks"
   ]
  },
  {
   "cell_type": "markdown",
   "metadata": {},
   "source": [
    "Этот датафрейм содержит айди студента и сумму чека.   \n",
    "Посмотрим количество уникальных платящих пользователей, отсутствующие значения, все ли эти айди есть в таблице активных пользователей (а так же, для всех ли айди из этой таблицы определена группа), а также распределение сумм чеков"
   ]
  },
  {
   "cell_type": "code",
   "execution_count": 12,
   "metadata": {},
   "outputs": [
    {
     "name": "stdout",
     "output_type": "stream",
     "text": [
      "Процент отсутствующих значений:\n",
      "student_id    0.0\n",
      "rev           0.0\n",
      "dtype: float64\n",
      "\n",
      "Уникальных айди: 541\n",
      "\n",
      "Количество активных студентов: 392\n",
      "\n",
      "Количество студентов, группа которых определена: 541\n"
     ]
    }
   ],
   "source": [
    "print('Процент отсутствующих значений:', checks.isna().mean(), sep='\\n')\n",
    "print('\\nУникальных айди:', checks['student_id'].nunique())\n",
    "print('\\nКоличество активных студентов:', checks['student_id'].isin(active_studs['student_id']).sum())\n",
    "print('\\nКоличество студентов, группа которых определена:', checks['student_id'].isin(groups_full['id']).sum())"
   ]
  },
  {
   "cell_type": "code",
   "execution_count": 13,
   "metadata": {},
   "outputs": [
    {
     "data": {
      "text/plain": [
       "<matplotlib.axes._subplots.AxesSubplot at 0x7ff5c4275cf8>"
      ]
     },
     "execution_count": 13,
     "metadata": {},
     "output_type": "execute_result"
    },
    {
     "data": {
      "image/png": "[encoded data removed]",
      "text/plain": [
       "<Figure size 432x288 with 1 Axes>"
      ]
     },
     "metadata": {
      "needs_background": "light"
     },
     "output_type": "display_data"
    }
   ],
   "source": [
    "checks['rev'].plot(kind='hist')"
   ]
  },
  {
   "cell_type": "markdown",
   "metadata": {},
   "source": [
    "Во-первых, видно, что большая часть студентов заплатила в пределах 2000 р, абсолютное большинство заплатило в переделах 4000 р, при этом есть небольшие выбросы >4000 р.   \n",
    "Во-вторых, что самое интересное, не все студенты, совершившие покупку в период эксперимента, заходили при этом на платформу.   \n",
    "У этого может быть несколько причин:   \n",
    "1. для оплаты услуг не обязательно заходить на сайт\n",
    "2. могут быть проблемы с отслеживанием активности на сайте   \n",
    "3. автооплата"
   ]
  },
  {
   "cell_type": "markdown",
   "metadata": {},
   "source": [
    "Теперь переджойним все таблицы, чтобы иметь всю информацию в одном датафрейме\n",
    "Для начала добавим колонку с активностью студента, чтобы не потерять информацию об этом при джойне"
   ]
  },
  {
   "cell_type": "code",
   "execution_count": 14,
   "metadata": {},
   "outputs": [],
   "source": [
    "active_studs['is_active'] = 1"
   ]
  },
  {
   "cell_type": "code",
   "execution_count": 15,
   "metadata": {},
   "outputs": [],
   "source": [
    "groups_full.rename(columns={'id': 'student_id'}, inplace=True)"
   ]
  },
  {
   "cell_type": "code",
   "execution_count": 16,
   "metadata": {},
   "outputs": [
    {
     "data": {
      "text/html": [
       "<div>\n",
       "<style scoped>\n",
       "    .dataframe tbody tr th:only-of-type {\n",
       "        vertical-align: middle;\n",
       "    }\n",
       "\n",
       "    .dataframe tbody tr th {\n",
       "        vertical-align: top;\n",
       "    }\n",
       "\n",
       "    .dataframe thead th {\n",
       "        text-align: right;\n",
       "    }\n",
       "</style>\n",
       "<table border=\"1\" class=\"dataframe\">\n",
       "  <thead>\n",
       "    <tr style=\"text-align: right;\">\n",
       "      <th></th>\n",
       "      <th>student_id</th>\n",
       "      <th>grp</th>\n",
       "      <th>is_active</th>\n",
       "      <th>rev</th>\n",
       "    </tr>\n",
       "  </thead>\n",
       "  <tbody>\n",
       "    <tr>\n",
       "      <th>0</th>\n",
       "      <td>1489</td>\n",
       "      <td>B</td>\n",
       "      <td>NaN</td>\n",
       "      <td>NaN</td>\n",
       "    </tr>\n",
       "    <tr>\n",
       "      <th>1</th>\n",
       "      <td>1627</td>\n",
       "      <td>A</td>\n",
       "      <td>1.0</td>\n",
       "      <td>990.0</td>\n",
       "    </tr>\n",
       "    <tr>\n",
       "      <th>2</th>\n",
       "      <td>1768</td>\n",
       "      <td>B</td>\n",
       "      <td>NaN</td>\n",
       "      <td>NaN</td>\n",
       "    </tr>\n",
       "    <tr>\n",
       "      <th>3</th>\n",
       "      <td>1783</td>\n",
       "      <td>B</td>\n",
       "      <td>NaN</td>\n",
       "      <td>NaN</td>\n",
       "    </tr>\n",
       "    <tr>\n",
       "      <th>4</th>\n",
       "      <td>1794</td>\n",
       "      <td>A</td>\n",
       "      <td>NaN</td>\n",
       "      <td>NaN</td>\n",
       "    </tr>\n",
       "    <tr>\n",
       "      <th>...</th>\n",
       "      <td>...</td>\n",
       "      <td>...</td>\n",
       "      <td>...</td>\n",
       "      <td>...</td>\n",
       "    </tr>\n",
       "    <tr>\n",
       "      <th>74571</th>\n",
       "      <td>200247820</td>\n",
       "      <td>B</td>\n",
       "      <td>NaN</td>\n",
       "      <td>NaN</td>\n",
       "    </tr>\n",
       "    <tr>\n",
       "      <th>74572</th>\n",
       "      <td>201032527</td>\n",
       "      <td>B</td>\n",
       "      <td>NaN</td>\n",
       "      <td>NaN</td>\n",
       "    </tr>\n",
       "    <tr>\n",
       "      <th>74573</th>\n",
       "      <td>201067612</td>\n",
       "      <td>B</td>\n",
       "      <td>NaN</td>\n",
       "      <td>NaN</td>\n",
       "    </tr>\n",
       "    <tr>\n",
       "      <th>74574</th>\n",
       "      <td>201067653</td>\n",
       "      <td>B</td>\n",
       "      <td>NaN</td>\n",
       "      <td>NaN</td>\n",
       "    </tr>\n",
       "    <tr>\n",
       "      <th>74575</th>\n",
       "      <td>201067659</td>\n",
       "      <td>B</td>\n",
       "      <td>NaN</td>\n",
       "      <td>NaN</td>\n",
       "    </tr>\n",
       "  </tbody>\n",
       "</table>\n",
       "<p>74576 rows × 4 columns</p>\n",
       "</div>"
      ],
      "text/plain": [
       "       student_id grp  is_active    rev\n",
       "0            1489   B        NaN    NaN\n",
       "1            1627   A        1.0  990.0\n",
       "2            1768   B        NaN    NaN\n",
       "3            1783   B        NaN    NaN\n",
       "4            1794   A        NaN    NaN\n",
       "...           ...  ..        ...    ...\n",
       "74571   200247820   B        NaN    NaN\n",
       "74572   201032527   B        NaN    NaN\n",
       "74573   201067612   B        NaN    NaN\n",
       "74574   201067653   B        NaN    NaN\n",
       "74575   201067659   B        NaN    NaN\n",
       "\n",
       "[74576 rows x 4 columns]"
      ]
     },
     "execution_count": 16,
     "metadata": {},
     "output_type": "execute_result"
    }
   ],
   "source": [
    "test_data = groups_full.merge(active_studs, on='student_id', how='left').merge(checks, on='student_id', how='left')\n",
    "test_data"
   ]
  },
  {
   "cell_type": "markdown",
   "metadata": {},
   "source": [
    "Проверим, правильно ли сджойнились эти таблицы:   \n",
    "В файле groups_full 74576 студентов.   \n",
    "Активных - 8341. Соответственно, 74 576 - 8 341 = 66 235 неактивных.   \n",
    "Платящих - 541. Соответственно, 74 576 - 541 = 74 035 неплатящих."
   ]
  },
  {
   "cell_type": "code",
   "execution_count": 17,
   "metadata": {},
   "outputs": [
    {
     "name": "stdout",
     "output_type": "stream",
     "text": [
      "Уникальных айди: 74576\n",
      "Неактивных: 66235\n",
      "Неплатящих: 74035\n"
     ]
    }
   ],
   "source": [
    "print('Уникальных айди:', test_data['student_id'].nunique())\n",
    "print('Неактивных:', test_data.is_active.isna().sum())\n",
    "print('Неплатящих:', test_data.rev.isna().sum())"
   ]
  },
  {
   "cell_type": "markdown",
   "metadata": {},
   "source": [
    "Все совпадает. Теперь заполним отсутствующе значения в столбце rev нулями - эти студенты ничего не покупали в период проведения тестирования и сджойним эту таблицу с таблицей разбиения на группы.    \n",
    "Также заполним нулями Nan в is_active - эти пользователи не были активны"
   ]
  },
  {
   "cell_type": "code",
   "execution_count": 18,
   "metadata": {},
   "outputs": [
    {
     "data": {
      "text/html": [
       "<div>\n",
       "<style scoped>\n",
       "    .dataframe tbody tr th:only-of-type {\n",
       "        vertical-align: middle;\n",
       "    }\n",
       "\n",
       "    .dataframe tbody tr th {\n",
       "        vertical-align: top;\n",
       "    }\n",
       "\n",
       "    .dataframe thead th {\n",
       "        text-align: right;\n",
       "    }\n",
       "</style>\n",
       "<table border=\"1\" class=\"dataframe\">\n",
       "  <thead>\n",
       "    <tr style=\"text-align: right;\">\n",
       "      <th></th>\n",
       "      <th>student_id</th>\n",
       "      <th>grp</th>\n",
       "      <th>is_active</th>\n",
       "      <th>rev</th>\n",
       "    </tr>\n",
       "  </thead>\n",
       "  <tbody>\n",
       "    <tr>\n",
       "      <th>0</th>\n",
       "      <td>1489</td>\n",
       "      <td>B</td>\n",
       "      <td>0.0</td>\n",
       "      <td>0.0</td>\n",
       "    </tr>\n",
       "    <tr>\n",
       "      <th>1</th>\n",
       "      <td>1627</td>\n",
       "      <td>A</td>\n",
       "      <td>1.0</td>\n",
       "      <td>990.0</td>\n",
       "    </tr>\n",
       "    <tr>\n",
       "      <th>2</th>\n",
       "      <td>1768</td>\n",
       "      <td>B</td>\n",
       "      <td>0.0</td>\n",
       "      <td>0.0</td>\n",
       "    </tr>\n",
       "    <tr>\n",
       "      <th>3</th>\n",
       "      <td>1783</td>\n",
       "      <td>B</td>\n",
       "      <td>0.0</td>\n",
       "      <td>0.0</td>\n",
       "    </tr>\n",
       "    <tr>\n",
       "      <th>4</th>\n",
       "      <td>1794</td>\n",
       "      <td>A</td>\n",
       "      <td>0.0</td>\n",
       "      <td>0.0</td>\n",
       "    </tr>\n",
       "    <tr>\n",
       "      <th>...</th>\n",
       "      <td>...</td>\n",
       "      <td>...</td>\n",
       "      <td>...</td>\n",
       "      <td>...</td>\n",
       "    </tr>\n",
       "    <tr>\n",
       "      <th>74571</th>\n",
       "      <td>200247820</td>\n",
       "      <td>B</td>\n",
       "      <td>0.0</td>\n",
       "      <td>0.0</td>\n",
       "    </tr>\n",
       "    <tr>\n",
       "      <th>74572</th>\n",
       "      <td>201032527</td>\n",
       "      <td>B</td>\n",
       "      <td>0.0</td>\n",
       "      <td>0.0</td>\n",
       "    </tr>\n",
       "    <tr>\n",
       "      <th>74573</th>\n",
       "      <td>201067612</td>\n",
       "      <td>B</td>\n",
       "      <td>0.0</td>\n",
       "      <td>0.0</td>\n",
       "    </tr>\n",
       "    <tr>\n",
       "      <th>74574</th>\n",
       "      <td>201067653</td>\n",
       "      <td>B</td>\n",
       "      <td>0.0</td>\n",
       "      <td>0.0</td>\n",
       "    </tr>\n",
       "    <tr>\n",
       "      <th>74575</th>\n",
       "      <td>201067659</td>\n",
       "      <td>B</td>\n",
       "      <td>0.0</td>\n",
       "      <td>0.0</td>\n",
       "    </tr>\n",
       "  </tbody>\n",
       "</table>\n",
       "<p>74576 rows × 4 columns</p>\n",
       "</div>"
      ],
      "text/plain": [
       "       student_id grp  is_active    rev\n",
       "0            1489   B        0.0    0.0\n",
       "1            1627   A        1.0  990.0\n",
       "2            1768   B        0.0    0.0\n",
       "3            1783   B        0.0    0.0\n",
       "4            1794   A        0.0    0.0\n",
       "...           ...  ..        ...    ...\n",
       "74571   200247820   B        0.0    0.0\n",
       "74572   201032527   B        0.0    0.0\n",
       "74573   201067612   B        0.0    0.0\n",
       "74574   201067653   B        0.0    0.0\n",
       "74575   201067659   B        0.0    0.0\n",
       "\n",
       "[74576 rows x 4 columns]"
      ]
     },
     "execution_count": 18,
     "metadata": {},
     "output_type": "execute_result"
    }
   ],
   "source": [
    "test_data.rev = test_data.rev.fillna(0)\n",
    "test_data.is_active = test_data.is_active.fillna(0)\n",
    "test_data"
   ]
  },
  {
   "cell_type": "markdown",
   "metadata": {},
   "source": [
    "## Еще раз посмотрим на данные"
   ]
  },
  {
   "cell_type": "markdown",
   "metadata": {},
   "source": [
    "Посмотрим общую сумму покупок, средний чек по всем пользователям и количество пользователей по группам"
   ]
  },
  {
   "cell_type": "code",
   "execution_count": 19,
   "metadata": {},
   "outputs": [
    {
     "data": {
      "text/html": [
       "<div>\n",
       "<style scoped>\n",
       "    .dataframe tbody tr th:only-of-type {\n",
       "        vertical-align: middle;\n",
       "    }\n",
       "\n",
       "    .dataframe tbody tr th {\n",
       "        vertical-align: top;\n",
       "    }\n",
       "\n",
       "    .dataframe thead th {\n",
       "        text-align: right;\n",
       "    }\n",
       "</style>\n",
       "<table border=\"1\" class=\"dataframe\">\n",
       "  <thead>\n",
       "    <tr style=\"text-align: right;\">\n",
       "      <th></th>\n",
       "      <th>sum</th>\n",
       "      <th>mean</th>\n",
       "      <th>count</th>\n",
       "    </tr>\n",
       "    <tr>\n",
       "      <th>grp</th>\n",
       "      <th></th>\n",
       "      <th></th>\n",
       "      <th></th>\n",
       "    </tr>\n",
       "  </thead>\n",
       "  <tbody>\n",
       "    <tr>\n",
       "      <th>A</th>\n",
       "      <td>92096.0000</td>\n",
       "      <td>6.268019</td>\n",
       "      <td>14693</td>\n",
       "    </tr>\n",
       "    <tr>\n",
       "      <th>B</th>\n",
       "      <td>481230.0036</td>\n",
       "      <td>8.036171</td>\n",
       "      <td>59883</td>\n",
       "    </tr>\n",
       "  </tbody>\n",
       "</table>\n",
       "</div>"
      ],
      "text/plain": [
       "             sum      mean  count\n",
       "grp                              \n",
       "A     92096.0000  6.268019  14693\n",
       "B    481230.0036  8.036171  59883"
      ]
     },
     "execution_count": 19,
     "metadata": {},
     "output_type": "execute_result"
    }
   ],
   "source": [
    "test_data.groupby('grp')['rev'].agg(['sum', 'mean', 'count'])"
   ]
  },
  {
   "cell_type": "markdown",
   "metadata": {},
   "source": [
    "Видно, что у нас сильный дисбаланс групп - в группе Б в 4,5 раза больше студентов. Этим объясняется разница в общей сумме покупок    \n",
    "Посмотрим статистику только по студентам, которые в этот период оплатили услуги"
   ]
  },
  {
   "cell_type": "code",
   "execution_count": 20,
   "metadata": {},
   "outputs": [
    {
     "data": {
      "text/html": [
       "<div>\n",
       "<style scoped>\n",
       "    .dataframe tbody tr th:only-of-type {\n",
       "        vertical-align: middle;\n",
       "    }\n",
       "\n",
       "    .dataframe tbody tr th {\n",
       "        vertical-align: top;\n",
       "    }\n",
       "\n",
       "    .dataframe thead th {\n",
       "        text-align: right;\n",
       "    }\n",
       "</style>\n",
       "<table border=\"1\" class=\"dataframe\">\n",
       "  <thead>\n",
       "    <tr style=\"text-align: right;\">\n",
       "      <th></th>\n",
       "      <th>sum</th>\n",
       "      <th>mean</th>\n",
       "      <th>count</th>\n",
       "    </tr>\n",
       "    <tr>\n",
       "      <th>grp</th>\n",
       "      <th></th>\n",
       "      <th></th>\n",
       "      <th></th>\n",
       "    </tr>\n",
       "  </thead>\n",
       "  <tbody>\n",
       "    <tr>\n",
       "      <th>A</th>\n",
       "      <td>92096.0000</td>\n",
       "      <td>860.710280</td>\n",
       "      <td>107</td>\n",
       "    </tr>\n",
       "    <tr>\n",
       "      <th>B</th>\n",
       "      <td>481230.0036</td>\n",
       "      <td>1108.824893</td>\n",
       "      <td>434</td>\n",
       "    </tr>\n",
       "  </tbody>\n",
       "</table>\n",
       "</div>"
      ],
      "text/plain": [
       "             sum         mean  count\n",
       "grp                                 \n",
       "A     92096.0000   860.710280    107\n",
       "B    481230.0036  1108.824893    434"
      ]
     },
     "execution_count": 20,
     "metadata": {},
     "output_type": "execute_result"
    }
   ],
   "source": [
    "test_data[test_data['rev'] != 0].groupby('grp')['rev'].agg(['sum', 'mean', 'count'])"
   ]
  },
  {
   "cell_type": "markdown",
   "metadata": {},
   "source": [
    "Посмотрим на разницу распределений сумм покупок по группам"
   ]
  },
  {
   "cell_type": "code",
   "execution_count": 21,
   "metadata": {},
   "outputs": [
    {
     "data": {
      "text/plain": [
       "<seaborn.axisgrid.FacetGrid at 0x7ff5c42ad940>"
      ]
     },
     "execution_count": 21,
     "metadata": {},
     "output_type": "execute_result"
    },
    {
     "data": {
      "image/png": "[encoded data removed]",
      "text/plain": [
       "<Figure size 402.875x360 with 1 Axes>"
      ]
     },
     "metadata": {
      "needs_background": "light"
     },
     "output_type": "display_data"
    }
   ],
   "source": [
    "sns.displot(data=test_data[test_data.rev != 0], x='rev', hue='grp')"
   ]
  },
  {
   "cell_type": "markdown",
   "metadata": {},
   "source": [
    "Несмотря на разницу в количестве студентов, общие распределения выглядят похоже, за исключением того, что в группе B гораздо больше доля студентов, заплативших около 2000."
   ]
  },
  {
   "cell_type": "markdown",
   "metadata": {},
   "source": [
    "## Метрики   \n",
    "В первую очередь приходит в голову ARPU - его обязательно стоит проверить, потому что если новая система оплаты удобнее для пользователей, логично предположить, что пользоваться ей будут чаще. А заодно посмотрим и ARPPU.\n",
    "Вторая метрика - доля пользователей, совершивших покупку, иначе говоря, конверсия в покупку в этот период."
   ]
  },
  {
   "cell_type": "markdown",
   "metadata": {},
   "source": [
    "### Конверсия   \n",
    "Для тестирования, есть ли разница в конверсии будем использовать типичный для этой метрики способ - Хи-квадрат   \n",
    "Для удобства создания таблицы сопряженности добавим в таблицу еще один столбец, который будет показывать, сконвертировался ли студент"
   ]
  },
  {
   "cell_type": "code",
   "execution_count": 22,
   "metadata": {},
   "outputs": [
    {
     "data": {
      "text/html": [
       "<div>\n",
       "<style scoped>\n",
       "    .dataframe tbody tr th:only-of-type {\n",
       "        vertical-align: middle;\n",
       "    }\n",
       "\n",
       "    .dataframe tbody tr th {\n",
       "        vertical-align: top;\n",
       "    }\n",
       "\n",
       "    .dataframe thead th {\n",
       "        text-align: right;\n",
       "    }\n",
       "</style>\n",
       "<table border=\"1\" class=\"dataframe\">\n",
       "  <thead>\n",
       "    <tr style=\"text-align: right;\">\n",
       "      <th></th>\n",
       "      <th>student_id</th>\n",
       "      <th>grp</th>\n",
       "      <th>is_active</th>\n",
       "      <th>rev</th>\n",
       "      <th>is_conv</th>\n",
       "    </tr>\n",
       "  </thead>\n",
       "  <tbody>\n",
       "    <tr>\n",
       "      <th>0</th>\n",
       "      <td>1489</td>\n",
       "      <td>B</td>\n",
       "      <td>0.0</td>\n",
       "      <td>0.0</td>\n",
       "      <td>0</td>\n",
       "    </tr>\n",
       "    <tr>\n",
       "      <th>1</th>\n",
       "      <td>1627</td>\n",
       "      <td>A</td>\n",
       "      <td>1.0</td>\n",
       "      <td>990.0</td>\n",
       "      <td>1</td>\n",
       "    </tr>\n",
       "    <tr>\n",
       "      <th>2</th>\n",
       "      <td>1768</td>\n",
       "      <td>B</td>\n",
       "      <td>0.0</td>\n",
       "      <td>0.0</td>\n",
       "      <td>0</td>\n",
       "    </tr>\n",
       "    <tr>\n",
       "      <th>3</th>\n",
       "      <td>1783</td>\n",
       "      <td>B</td>\n",
       "      <td>0.0</td>\n",
       "      <td>0.0</td>\n",
       "      <td>0</td>\n",
       "    </tr>\n",
       "    <tr>\n",
       "      <th>4</th>\n",
       "      <td>1794</td>\n",
       "      <td>A</td>\n",
       "      <td>0.0</td>\n",
       "      <td>0.0</td>\n",
       "      <td>0</td>\n",
       "    </tr>\n",
       "    <tr>\n",
       "      <th>...</th>\n",
       "      <td>...</td>\n",
       "      <td>...</td>\n",
       "      <td>...</td>\n",
       "      <td>...</td>\n",
       "      <td>...</td>\n",
       "    </tr>\n",
       "    <tr>\n",
       "      <th>74571</th>\n",
       "      <td>200247820</td>\n",
       "      <td>B</td>\n",
       "      <td>0.0</td>\n",
       "      <td>0.0</td>\n",
       "      <td>0</td>\n",
       "    </tr>\n",
       "    <tr>\n",
       "      <th>74572</th>\n",
       "      <td>201032527</td>\n",
       "      <td>B</td>\n",
       "      <td>0.0</td>\n",
       "      <td>0.0</td>\n",
       "      <td>0</td>\n",
       "    </tr>\n",
       "    <tr>\n",
       "      <th>74573</th>\n",
       "      <td>201067612</td>\n",
       "      <td>B</td>\n",
       "      <td>0.0</td>\n",
       "      <td>0.0</td>\n",
       "      <td>0</td>\n",
       "    </tr>\n",
       "    <tr>\n",
       "      <th>74574</th>\n",
       "      <td>201067653</td>\n",
       "      <td>B</td>\n",
       "      <td>0.0</td>\n",
       "      <td>0.0</td>\n",
       "      <td>0</td>\n",
       "    </tr>\n",
       "    <tr>\n",
       "      <th>74575</th>\n",
       "      <td>201067659</td>\n",
       "      <td>B</td>\n",
       "      <td>0.0</td>\n",
       "      <td>0.0</td>\n",
       "      <td>0</td>\n",
       "    </tr>\n",
       "  </tbody>\n",
       "</table>\n",
       "<p>74576 rows × 5 columns</p>\n",
       "</div>"
      ],
      "text/plain": [
       "       student_id grp  is_active    rev  is_conv\n",
       "0            1489   B        0.0    0.0        0\n",
       "1            1627   A        1.0  990.0        1\n",
       "2            1768   B        0.0    0.0        0\n",
       "3            1783   B        0.0    0.0        0\n",
       "4            1794   A        0.0    0.0        0\n",
       "...           ...  ..        ...    ...      ...\n",
       "74571   200247820   B        0.0    0.0        0\n",
       "74572   201032527   B        0.0    0.0        0\n",
       "74573   201067612   B        0.0    0.0        0\n",
       "74574   201067653   B        0.0    0.0        0\n",
       "74575   201067659   B        0.0    0.0        0\n",
       "\n",
       "[74576 rows x 5 columns]"
      ]
     },
     "execution_count": 22,
     "metadata": {},
     "output_type": "execute_result"
    }
   ],
   "source": [
    "test_data['is_conv'] = test_data['rev'].apply(lambda x: 1 if x > 0 else 0)\n",
    "test_data"
   ]
  },
  {
   "cell_type": "markdown",
   "metadata": {},
   "source": [
    "Стороим таблицу сопряженности"
   ]
  },
  {
   "cell_type": "code",
   "execution_count": 23,
   "metadata": {},
   "outputs": [
    {
     "data": {
      "text/html": [
       "<div>\n",
       "<style scoped>\n",
       "    .dataframe tbody tr th:only-of-type {\n",
       "        vertical-align: middle;\n",
       "    }\n",
       "\n",
       "    .dataframe tbody tr th {\n",
       "        vertical-align: top;\n",
       "    }\n",
       "\n",
       "    .dataframe thead th {\n",
       "        text-align: right;\n",
       "    }\n",
       "</style>\n",
       "<table border=\"1\" class=\"dataframe\">\n",
       "  <thead>\n",
       "    <tr style=\"text-align: right;\">\n",
       "      <th>grp</th>\n",
       "      <th>A</th>\n",
       "      <th>B</th>\n",
       "    </tr>\n",
       "    <tr>\n",
       "      <th>is_conv</th>\n",
       "      <th></th>\n",
       "      <th></th>\n",
       "    </tr>\n",
       "  </thead>\n",
       "  <tbody>\n",
       "    <tr>\n",
       "      <th>0</th>\n",
       "      <td>14586</td>\n",
       "      <td>59449</td>\n",
       "    </tr>\n",
       "    <tr>\n",
       "      <th>1</th>\n",
       "      <td>107</td>\n",
       "      <td>434</td>\n",
       "    </tr>\n",
       "  </tbody>\n",
       "</table>\n",
       "</div>"
      ],
      "text/plain": [
       "grp          A      B\n",
       "is_conv              \n",
       "0        14586  59449\n",
       "1          107    434"
      ]
     },
     "execution_count": 23,
     "metadata": {},
     "output_type": "execute_result"
    }
   ],
   "source": [
    "conv_cross = pd.crosstab(index=test_data.is_conv, columns=test_data.grp)\n",
    "conv_cross"
   ]
  },
  {
   "cell_type": "markdown",
   "metadata": {},
   "source": [
    "В кросстабе видно знакомые значения - 107 платящих студентов в группе A и 434 - в группе B. Те же цифры мы видели при изучении данных, значит, кросстаб построен правильно   \n",
    "Из него уже видно, что особых различий в конверсии между группами нет - обе строчки отличаются примерно в одной и той же пропорции. Но на всякий случай проверим   \n",
    "Во всех ячейках достаточно много данных - это значит, нам нужен обычный Хи-квадрат - точный критерий Фишера и Хи-квадрат с поправкой Йетса отпадают."
   ]
  },
  {
   "cell_type": "code",
   "execution_count": 24,
   "metadata": {},
   "outputs": [
    {
     "data": {
      "text/plain": [
       "(0.0,\n",
       " 1.0,\n",
       " 1,\n",
       " array([[14586.41191536, 59448.58808464],\n",
       "        [  106.58808464,   434.41191536]]))"
      ]
     },
     "execution_count": 24,
     "metadata": {},
     "output_type": "execute_result"
    }
   ],
   "source": [
    "st.chi2_contingency(conv_cross)"
   ]
  },
  {
   "cell_type": "markdown",
   "metadata": {},
   "source": [
    "Pvalue идет в массиве второй, значит с индексом 1. Посмотрим на него отдельно"
   ]
  },
  {
   "cell_type": "code",
   "execution_count": 25,
   "metadata": {},
   "outputs": [
    {
     "data": {
      "text/plain": [
       "1.0"
      ]
     },
     "execution_count": 25,
     "metadata": {},
     "output_type": "execute_result"
    }
   ],
   "source": [
    "st.chi2_contingency(conv_cross)[1]"
   ]
  },
  {
   "cell_type": "markdown",
   "metadata": {},
   "source": [
    "Pvalue очень большой - мы не можем отвергнуть нулевую гипотезу, которая в случае Хи-квадрат предполагает, что различий между группами нет   "
   ]
  },
  {
   "cell_type": "markdown",
   "metadata": {},
   "source": [
    "### ARPU и ARPPU\n",
    "На нормальность распределения проверять нет необходимости - мы уже видим, что нормальными они не являются"
   ]
  },
  {
   "cell_type": "code",
   "execution_count": 26,
   "metadata": {},
   "outputs": [
    {
     "data": {
      "text/plain": [
       "<seaborn.axisgrid.FacetGrid at 0x7ff5b1710eb8>"
      ]
     },
     "execution_count": 26,
     "metadata": {},
     "output_type": "execute_result"
    },
    {
     "data": {
      "image/png": "[encoded data removed]",
      "text/plain": [
       "<Figure size 402.875x360 with 1 Axes>"
      ]
     },
     "metadata": {
      "needs_background": "light"
     },
     "output_type": "display_data"
    }
   ],
   "source": [
    "sns.displot(data=test_data[test_data.rev != 0], x='rev', hue='grp')"
   ]
  },
  {
   "cell_type": "markdown",
   "metadata": {},
   "source": [
    "На всякий случай взглянем на qq-plot"
   ]
  },
  {
   "cell_type": "code",
   "execution_count": 27,
   "metadata": {},
   "outputs": [
    {
     "data": {
      "text/plain": [
       "<matplotlib.axes._subplots.AxesSubplot at 0x7ff5b165a940>"
      ]
     },
     "execution_count": 27,
     "metadata": {},
     "output_type": "execute_result"
    },
    {
     "data": {
      "image/png": "[encoded data removed]",
      "text/plain": [
       "<Figure size 360x288 with 1 Axes>"
      ]
     },
     "metadata": {
      "needs_background": "light"
     },
     "output_type": "display_data"
    },
    {
     "data": {
      "image/png": "[encoded data removed]",
      "text/plain": [
       "<Figure size 360x288 with 1 Axes>"
      ]
     },
     "metadata": {
      "needs_background": "light"
     },
     "output_type": "display_data"
    }
   ],
   "source": [
    "pg.qqplot(x=test_data[test_data['grp'] == 'A']['rev'])\n",
    "pg.qqplot(x=test_data[test_data['grp'] == 'B']['rev'])"
   ]
  },
  {
   "cell_type": "markdown",
   "metadata": {},
   "source": [
    "Даже не близко.   \n",
    "Определимся с тестами. При континуальной переменной мы можем использовать много тестов, но наилучши вариантом будет бутстрап - Т-тест сильно потеряет в точности из-за ненормальности, а критерий Манна-Уитни не сравнивает средние."
   ]
  },
  {
   "cell_type": "markdown",
   "metadata": {},
   "source": [
    "Сначала подготовим данные - сделаем два массива, по суммам покупок групп А и Б - для ARPU, и еще два массива по группам, но только из платящих пользователей - для ARPPU"
   ]
  },
  {
   "cell_type": "code",
   "execution_count": 28,
   "metadata": {},
   "outputs": [],
   "source": [
    "rev_group_A = test_data[test_data.grp == 'A'].rev\n",
    "rev_group_B = test_data[test_data.grp == 'B'].rev\n",
    "\n",
    "rev_group_A_paying = test_data[(test_data.grp == 'A') & (test_data.rev > 0)].rev\n",
    "rev_group_B_paying = test_data[(test_data.grp == 'B') & (test_data.rev > 0)].rev"
   ]
  },
  {
   "cell_type": "markdown",
   "metadata": {},
   "source": [
    "Сначала посмотрим ARPU"
   ]
  },
  {
   "cell_type": "code",
   "execution_count": 29,
   "metadata": {},
   "outputs": [
    {
     "data": {
      "text/plain": [
       "array([4.73, 7.99])"
      ]
     },
     "execution_count": 29,
     "metadata": {},
     "output_type": "execute_result"
    }
   ],
   "source": [
    "pg.compute_bootci(x=rev_group_A, func='mean', paired=False, confidence=0.95, seed=42)"
   ]
  },
  {
   "cell_type": "code",
   "execution_count": 30,
   "metadata": {},
   "outputs": [
    {
     "data": {
      "text/plain": [
       "array([7.18, 9.02])"
      ]
     },
     "execution_count": 30,
     "metadata": {},
     "output_type": "execute_result"
    }
   ],
   "source": [
    "pg.compute_bootci(x=rev_group_B, func='mean', paired=False, confidence=0.95, seed=42)"
   ]
  },
  {
   "cell_type": "markdown",
   "metadata": {},
   "source": [
    "Как можно видеть, объем данных слишком большой для бутстрапирования. Попробуем взять только часть данных, например, 75%"
   ]
  },
  {
   "cell_type": "markdown",
   "metadata": {},
   "source": [
    "Как видно, доверительные интервалы пересекаются - значит, нулевую гипотезу об отсутствии различий отвергнуть мы не можем   \n",
    "Теперь посмотрим ARPPU"
   ]
  },
  {
   "cell_type": "code",
   "execution_count": 31,
   "metadata": {},
   "outputs": [
    {
     "data": {
      "text/plain": [
       "array([ 715.09, 1030.94])"
      ]
     },
     "execution_count": 31,
     "metadata": {},
     "output_type": "execute_result"
    }
   ],
   "source": [
    "pg.compute_bootci(x=rev_group_A_paying, func='mean', paired=False, confidence=0.95, seed=42)"
   ]
  },
  {
   "cell_type": "code",
   "execution_count": 32,
   "metadata": {},
   "outputs": [
    {
     "data": {
      "text/plain": [
       "array([1039.25, 1179.  ])"
      ]
     },
     "execution_count": 32,
     "metadata": {},
     "output_type": "execute_result"
    }
   ],
   "source": [
    "pg.compute_bootci(x=rev_group_B_paying, func='mean', paired=False, confidence=0.95, seed=42)"
   ]
  },
  {
   "cell_type": "markdown",
   "metadata": {},
   "source": [
    "Мы видим, что доверительные интервалы не пересекаются - между средними значениями выборок есть статистически значимая разница, при этом среднее группы B больше.\n",
    "Таким образом,       \n",
    "1. Мы можем отвергнуть нулевую гипотезу об отсутствии различий в ARPPU этих выборок\n",
    "2. Мы не можем отвергнуть нулевые гипотезы об отсутствии различий в ARPU и конверсии выборок   \n",
    "\n",
    "Тем не менее, ARPPU статистически значимо вырос.\n",
    "\n",
    "А значит, ***запускаем новую систему оплаты на всех пользователей***"
   ]
  },
  {
   "cell_type": "markdown",
   "metadata": {},
   "source": [
    "# 2 задание. SQL"
   ]
  },
  {
   "cell_type": "markdown",
   "metadata": {},
   "source": [
    "## 2.1 Очень усердные ученики"
   ]
  },
  {
   "cell_type": "markdown",
   "metadata": {},
   "source": [
    "Назовём очень усердным учеником того пользователя, который хотя бы раз за текущий месяц правильно решил 20 горошин.   \n",
    "Необходимо написать оптимальный запрос, который даст информацию о количестве очень усердных студентов.\n"
   ]
  },
  {
   "cell_type": "markdown",
   "metadata": {},
   "source": [
    "<code>SELECT COUNT(DISTINCT sq1.st_id) AS very_diligent_students_count\n",
    "FROM \n",
    "    (SELECT st_id, COUNT(correct) AS correct_peas\n",
    "    FROM default.peas\n",
    "    WHERE \n",
    "        correct = TRUE \n",
    "        AND\n",
    "        toStartOfMonth(timest::DATE) = toStartOfMonth(now()::DATE)\n",
    "    GROUP BY st_id) AS sq1\n",
    "WHERE \n",
    "    correct_peas >= 20\n",
    "</code>"
   ]
  },
  {
   "cell_type": "code",
   "execution_count": null,
   "metadata": {},
   "outputs": [],
   "source": []
  },
  {
   "cell_type": "markdown",
   "metadata": {},
   "source": [
    "## 2.2 Оптимизация воронки"
   ]
  },
  {
   "cell_type": "markdown",
   "metadata": {},
   "source": [
    "Необходимо в одном запросе выгрузить следующую информацию о группах пользователей:\n",
    "\n",
    "1. ARPU    \n",
    "2. ARPAU    \n",
    "3. CR в покупку    \n",
    "4. СR активного пользователя в покупку    \n",
    "5. CR пользователя из активности по математике (subject = ’math’) в покупку курса по математике   \n",
    "6. ARPU считается относительно всех пользователей, попавших в группы.   \n",
    "\n",
    "Активным считается пользователь, за все время решивший больше 10 задач правильно в любых дисциплинах.\n",
    "\n",
    "Активным по математике считается пользователь, за все время решивший 2 или больше задач правильно по математике."
   ]
  },
  {
   "cell_type": "markdown",
   "metadata": {},
   "source": [
    "Соберем этот запрос по частям   \n",
    "В первом CTE соберем айди студентов и флаги - активен ли студент вообще и по математике, используя таблицу default.peas"
   ]
  },
  {
   "cell_type": "markdown",
   "metadata": {},
   "source": [
    "<code>WITH activity_table AS\n",
    "    (SELECT \n",
    "        st_id, \n",
    "        CASE WHEN COUNT(correct) FILTER(WHERE correct = true)  > 10 THEN 1 ELSE 0 END AS is_active,\n",
    "        CASE WHEN COUNT(correct) FILTER(WHERE correct = true AND subject = 'math') > 2 THEN 1 ELSE 0 END AS is_math_active\n",
    "    FROM default.peas\n",
    "    GROUP BY st_id)\n",
    "</code>    "
   ]
  },
  {
   "cell_type": "markdown",
   "metadata": {},
   "source": [
    "Во втором CTE соберем айди студентов, сумму их покупок курсов и флаг, покупал ли студент курс по математике, используя таблицу default.final_project_check"
   ]
  },
  {
   "cell_type": "markdown",
   "metadata": {},
   "source": [
    "<code>money_math_table AS \n",
    "    (SELECT st_id, \n",
    "        SUM(money) AS total_money,\n",
    "        MAX(CASE WHEN subject = 'math' THEN 1 ELSE 0 END) AS bought_math_course\n",
    "    FROM default.final_project_check\n",
    "    GROUP BY st_id)\n",
    "</code>"
   ]
  },
  {
   "cell_type": "markdown",
   "metadata": {},
   "source": [
    "Информация из двух таблиц отобрана и сгруппирована по айди студентов. Третьей таблице, default.studs, группировка не нужна - она содержит только айди студента и его метку в эксперименте. Значит, можно написать итоговый запрос:"
   ]
  },
  {
   "cell_type": "markdown",
   "metadata": {},
   "source": [
    "<code>WITH activity_table AS\n",
    "    (SELECT \n",
    "        st_id, \n",
    "        CASE WHEN COUNT(correct) FILTER(WHERE correct = true)  > 10 THEN 1 ELSE 0 END AS is_active,\n",
    "        CASE WHEN COUNT(correct) FILTER(WHERE correct = true AND subject = 'math') > 2 THEN 1 ELSE 0 END AS is_math_active\n",
    "    FROM default.peas\n",
    "    GROUP BY st_id),\n",
    "    \n",
    "money_math_table AS \n",
    "    (SELECT st_id, \n",
    "        SUM(money) AS total_money,\n",
    "        MAX(CASE WHEN subject = 'math' THEN 1 ELSE 0 END) AS bought_math_course\n",
    "    FROM default.final_project_check\n",
    "    GROUP BY st_id)\n",
    "\n",
    "SELECT test_grp,\n",
    "    SUM(total_money) / COUNT(a.st_id) AS ARPU,\n",
    "    SUM(total_money) / COUNT(a.st_id) FILTER(WHERE is_active = 1) AS ARPAU,\n",
    "    COUNT(a.st_id) FILTER(WHERE total_money > 0) / COUNT(a.st_id) AS CR,\n",
    "    COUNT(a.st_id) FILTER(WHERE total_money > 0 AND is_active = 1) / COUNT(a.st_id) FILTER(WHERE is_active = 1) AS CR_active,\n",
    "    COUNT(a.st_id) FILTER(WHERE is_math_active = 1 AND bought_math_course = 1) / COUNT(a.st_id) FILTER(WHERE is_math_active = 1) AS CR_active_math\n",
    "FROM default.studs a \n",
    "    LEFT JOIN activity_table b ON a.st_id = b.st_id\n",
    "    LEFT JOIN money_math_table c ON a.st_id = c.st_id\n",
    "GROUP BY test_grp\n",
    "</code>"
   ]
  },
  {
   "cell_type": "code",
   "execution_count": null,
   "metadata": {},
   "outputs": [],
   "source": []
  },
  {
   "cell_type": "markdown",
   "metadata": {},
   "source": [
    "# Задание 3. Функции"
   ]
  },
  {
   "cell_type": "markdown",
   "metadata": {},
   "source": [
    "1. Реализуйте функцию, которая будет автоматически подгружать информацию из дополнительного файла groups_add.csv (заголовки могут отличаться) и на основании дополнительных параметров пересчитывать метрики.\n",
    "2. Реализуйте функцию, которая будет строить графики по получаемым метрикам.   \n"
   ]
  },
  {
   "cell_type": "markdown",
   "metadata": {},
   "source": [
    "Допустим, в файле будут не только id студента и группа, как это было в файле для задания с таким же названием, а еще и информация о совершенных покупках - иначе пересчитать метрики не получится.    \n",
    "Соответственно, ожидаемо, что дополнительный файл имеет такую структуру - student_id, rev, grp"
   ]
  },
  {
   "cell_type": "markdown",
   "metadata": {},
   "source": [
    "Так как предполагается, что файл будет обновляться, для начала добавим колонку итерации в начальный датафрейм - чтобы понимать, из какого обновления та или иная строчка"
   ]
  },
  {
   "cell_type": "code",
   "execution_count": 33,
   "metadata": {},
   "outputs": [
    {
     "data": {
      "text/html": [
       "<div>\n",
       "<style scoped>\n",
       "    .dataframe tbody tr th:only-of-type {\n",
       "        vertical-align: middle;\n",
       "    }\n",
       "\n",
       "    .dataframe tbody tr th {\n",
       "        vertical-align: top;\n",
       "    }\n",
       "\n",
       "    .dataframe thead th {\n",
       "        text-align: right;\n",
       "    }\n",
       "</style>\n",
       "<table border=\"1\" class=\"dataframe\">\n",
       "  <thead>\n",
       "    <tr style=\"text-align: right;\">\n",
       "      <th></th>\n",
       "      <th>student_id</th>\n",
       "      <th>grp</th>\n",
       "      <th>is_active</th>\n",
       "      <th>rev</th>\n",
       "      <th>is_conv</th>\n",
       "      <th>iteration</th>\n",
       "    </tr>\n",
       "  </thead>\n",
       "  <tbody>\n",
       "    <tr>\n",
       "      <th>0</th>\n",
       "      <td>1489</td>\n",
       "      <td>B</td>\n",
       "      <td>0.0</td>\n",
       "      <td>0.0</td>\n",
       "      <td>0</td>\n",
       "      <td>0</td>\n",
       "    </tr>\n",
       "    <tr>\n",
       "      <th>1</th>\n",
       "      <td>1627</td>\n",
       "      <td>A</td>\n",
       "      <td>1.0</td>\n",
       "      <td>990.0</td>\n",
       "      <td>1</td>\n",
       "      <td>0</td>\n",
       "    </tr>\n",
       "    <tr>\n",
       "      <th>2</th>\n",
       "      <td>1768</td>\n",
       "      <td>B</td>\n",
       "      <td>0.0</td>\n",
       "      <td>0.0</td>\n",
       "      <td>0</td>\n",
       "      <td>0</td>\n",
       "    </tr>\n",
       "    <tr>\n",
       "      <th>3</th>\n",
       "      <td>1783</td>\n",
       "      <td>B</td>\n",
       "      <td>0.0</td>\n",
       "      <td>0.0</td>\n",
       "      <td>0</td>\n",
       "      <td>0</td>\n",
       "    </tr>\n",
       "    <tr>\n",
       "      <th>4</th>\n",
       "      <td>1794</td>\n",
       "      <td>A</td>\n",
       "      <td>0.0</td>\n",
       "      <td>0.0</td>\n",
       "      <td>0</td>\n",
       "      <td>0</td>\n",
       "    </tr>\n",
       "    <tr>\n",
       "      <th>...</th>\n",
       "      <td>...</td>\n",
       "      <td>...</td>\n",
       "      <td>...</td>\n",
       "      <td>...</td>\n",
       "      <td>...</td>\n",
       "      <td>...</td>\n",
       "    </tr>\n",
       "    <tr>\n",
       "      <th>74571</th>\n",
       "      <td>200247820</td>\n",
       "      <td>B</td>\n",
       "      <td>0.0</td>\n",
       "      <td>0.0</td>\n",
       "      <td>0</td>\n",
       "      <td>1</td>\n",
       "    </tr>\n",
       "    <tr>\n",
       "      <th>74572</th>\n",
       "      <td>201032527</td>\n",
       "      <td>B</td>\n",
       "      <td>0.0</td>\n",
       "      <td>0.0</td>\n",
       "      <td>0</td>\n",
       "      <td>1</td>\n",
       "    </tr>\n",
       "    <tr>\n",
       "      <th>74573</th>\n",
       "      <td>201067612</td>\n",
       "      <td>B</td>\n",
       "      <td>0.0</td>\n",
       "      <td>0.0</td>\n",
       "      <td>0</td>\n",
       "      <td>1</td>\n",
       "    </tr>\n",
       "    <tr>\n",
       "      <th>74574</th>\n",
       "      <td>201067653</td>\n",
       "      <td>B</td>\n",
       "      <td>0.0</td>\n",
       "      <td>0.0</td>\n",
       "      <td>0</td>\n",
       "      <td>1</td>\n",
       "    </tr>\n",
       "    <tr>\n",
       "      <th>74575</th>\n",
       "      <td>201067659</td>\n",
       "      <td>B</td>\n",
       "      <td>0.0</td>\n",
       "      <td>0.0</td>\n",
       "      <td>0</td>\n",
       "      <td>1</td>\n",
       "    </tr>\n",
       "  </tbody>\n",
       "</table>\n",
       "<p>74576 rows × 6 columns</p>\n",
       "</div>"
      ],
      "text/plain": [
       "       student_id grp  is_active    rev  is_conv  iteration\n",
       "0            1489   B        0.0    0.0        0          0\n",
       "1            1627   A        1.0  990.0        1          0\n",
       "2            1768   B        0.0    0.0        0          0\n",
       "3            1783   B        0.0    0.0        0          0\n",
       "4            1794   A        0.0    0.0        0          0\n",
       "...           ...  ..        ...    ...      ...        ...\n",
       "74571   200247820   B        0.0    0.0        0          1\n",
       "74572   201032527   B        0.0    0.0        0          1\n",
       "74573   201067612   B        0.0    0.0        0          1\n",
       "74574   201067653   B        0.0    0.0        0          1\n",
       "74575   201067659   B        0.0    0.0        0          1\n",
       "\n",
       "[74576 rows x 6 columns]"
      ]
     },
     "execution_count": 33,
     "metadata": {},
     "output_type": "execute_result"
    }
   ],
   "source": [
    "test_data['iteration'] = test_data.student_id.isin(groups_add.id).astype(int)\n",
    "test_data"
   ]
  },
  {
   "cell_type": "code",
   "execution_count": 34,
   "metadata": {},
   "outputs": [
    {
     "data": {
      "text/html": [
       "<div>\n",
       "<style scoped>\n",
       "    .dataframe tbody tr th:only-of-type {\n",
       "        vertical-align: middle;\n",
       "    }\n",
       "\n",
       "    .dataframe tbody tr th {\n",
       "        vertical-align: top;\n",
       "    }\n",
       "\n",
       "    .dataframe thead th {\n",
       "        text-align: right;\n",
       "    }\n",
       "</style>\n",
       "<table border=\"1\" class=\"dataframe\">\n",
       "  <thead>\n",
       "    <tr style=\"text-align: right;\">\n",
       "      <th></th>\n",
       "      <th>student_id</th>\n",
       "      <th>grp</th>\n",
       "      <th>is_active</th>\n",
       "      <th>rev</th>\n",
       "      <th>is_conv</th>\n",
       "      <th>iteration</th>\n",
       "    </tr>\n",
       "  </thead>\n",
       "  <tbody>\n",
       "    <tr>\n",
       "      <th>0</th>\n",
       "      <td>1489</td>\n",
       "      <td>B</td>\n",
       "      <td>0.0</td>\n",
       "      <td>0.0</td>\n",
       "      <td>0</td>\n",
       "      <td>0</td>\n",
       "    </tr>\n",
       "    <tr>\n",
       "      <th>1</th>\n",
       "      <td>1627</td>\n",
       "      <td>A</td>\n",
       "      <td>1.0</td>\n",
       "      <td>990.0</td>\n",
       "      <td>1</td>\n",
       "      <td>0</td>\n",
       "    </tr>\n",
       "    <tr>\n",
       "      <th>2</th>\n",
       "      <td>1768</td>\n",
       "      <td>B</td>\n",
       "      <td>0.0</td>\n",
       "      <td>0.0</td>\n",
       "      <td>0</td>\n",
       "      <td>0</td>\n",
       "    </tr>\n",
       "    <tr>\n",
       "      <th>3</th>\n",
       "      <td>1783</td>\n",
       "      <td>B</td>\n",
       "      <td>0.0</td>\n",
       "      <td>0.0</td>\n",
       "      <td>0</td>\n",
       "      <td>0</td>\n",
       "    </tr>\n",
       "    <tr>\n",
       "      <th>4</th>\n",
       "      <td>1794</td>\n",
       "      <td>A</td>\n",
       "      <td>0.0</td>\n",
       "      <td>0.0</td>\n",
       "      <td>0</td>\n",
       "      <td>0</td>\n",
       "    </tr>\n",
       "    <tr>\n",
       "      <th>...</th>\n",
       "      <td>...</td>\n",
       "      <td>...</td>\n",
       "      <td>...</td>\n",
       "      <td>...</td>\n",
       "      <td>...</td>\n",
       "      <td>...</td>\n",
       "    </tr>\n",
       "    <tr>\n",
       "      <th>74571</th>\n",
       "      <td>200247820</td>\n",
       "      <td>B</td>\n",
       "      <td>0.0</td>\n",
       "      <td>0.0</td>\n",
       "      <td>0</td>\n",
       "      <td>1</td>\n",
       "    </tr>\n",
       "    <tr>\n",
       "      <th>74572</th>\n",
       "      <td>201032527</td>\n",
       "      <td>B</td>\n",
       "      <td>0.0</td>\n",
       "      <td>0.0</td>\n",
       "      <td>0</td>\n",
       "      <td>1</td>\n",
       "    </tr>\n",
       "    <tr>\n",
       "      <th>74573</th>\n",
       "      <td>201067612</td>\n",
       "      <td>B</td>\n",
       "      <td>0.0</td>\n",
       "      <td>0.0</td>\n",
       "      <td>0</td>\n",
       "      <td>1</td>\n",
       "    </tr>\n",
       "    <tr>\n",
       "      <th>74574</th>\n",
       "      <td>201067653</td>\n",
       "      <td>B</td>\n",
       "      <td>0.0</td>\n",
       "      <td>0.0</td>\n",
       "      <td>0</td>\n",
       "      <td>1</td>\n",
       "    </tr>\n",
       "    <tr>\n",
       "      <th>74575</th>\n",
       "      <td>201067659</td>\n",
       "      <td>B</td>\n",
       "      <td>0.0</td>\n",
       "      <td>0.0</td>\n",
       "      <td>0</td>\n",
       "      <td>1</td>\n",
       "    </tr>\n",
       "  </tbody>\n",
       "</table>\n",
       "<p>74576 rows × 6 columns</p>\n",
       "</div>"
      ],
      "text/plain": [
       "       student_id grp  is_active    rev  is_conv  iteration\n",
       "0            1489   B        0.0    0.0        0          0\n",
       "1            1627   A        1.0  990.0        1          0\n",
       "2            1768   B        0.0    0.0        0          0\n",
       "3            1783   B        0.0    0.0        0          0\n",
       "4            1794   A        0.0    0.0        0          0\n",
       "...           ...  ..        ...    ...      ...        ...\n",
       "74571   200247820   B        0.0    0.0        0          1\n",
       "74572   201032527   B        0.0    0.0        0          1\n",
       "74573   201067612   B        0.0    0.0        0          1\n",
       "74574   201067653   B        0.0    0.0        0          1\n",
       "74575   201067659   B        0.0    0.0        0          1\n",
       "\n",
       "[74576 rows x 6 columns]"
      ]
     },
     "execution_count": 34,
     "metadata": {},
     "output_type": "execute_result"
    }
   ],
   "source": [
    "test_data"
   ]
  },
  {
   "cell_type": "markdown",
   "metadata": {},
   "source": [
    "В новом файле groups_add заголовки могут отличаться - напишем функцию, исправляющую это"
   ]
  },
  {
   "cell_type": "code",
   "execution_count": 35,
   "metadata": {},
   "outputs": [],
   "source": [
    "def make_headers_great_again(groups_add):\n",
    "    for col_name in groups_add.columns:\n",
    "        if groups_add.col_name.iloc[0].isnum():\n",
    "            groups_add.rename(columns={name: 'student_id'})\n",
    "        if groups_add.col_name.iloc[0].isalpha():\n",
    "            groups_add.rename(columns={name: 'grp'})\n",
    "            \n",
    "    return groups_add[['student_id', 'grp']]"
   ]
  },
  {
   "cell_type": "markdown",
   "metadata": {},
   "source": [
    "Зададим датафрейм с матриками, который будем обновлять на основе новых данных, после чего на основе проделанных операций напишем функцию, которая будет создавать строчку с пересчитанными метриками при добавлении итерации   \n",
    "Зададим датафрейм с номером итерации и посчитанной конверсией по группам"
   ]
  },
  {
   "cell_type": "code",
   "execution_count": 36,
   "metadata": {},
   "outputs": [
    {
     "data": {
      "text/html": [
       "<div>\n",
       "<style scoped>\n",
       "    .dataframe tbody tr th:only-of-type {\n",
       "        vertical-align: middle;\n",
       "    }\n",
       "\n",
       "    .dataframe tbody tr th {\n",
       "        vertical-align: top;\n",
       "    }\n",
       "\n",
       "    .dataframe thead th {\n",
       "        text-align: right;\n",
       "    }\n",
       "</style>\n",
       "<table border=\"1\" class=\"dataframe\">\n",
       "  <thead>\n",
       "    <tr style=\"text-align: right;\">\n",
       "      <th>grp</th>\n",
       "      <th>iteration</th>\n",
       "      <th>CR_A</th>\n",
       "      <th>CR_B</th>\n",
       "    </tr>\n",
       "  </thead>\n",
       "  <tbody>\n",
       "    <tr>\n",
       "      <th>0</th>\n",
       "      <td>0</td>\n",
       "      <td>0.007293</td>\n",
       "      <td>0.007239</td>\n",
       "    </tr>\n",
       "  </tbody>\n",
       "</table>\n",
       "</div>"
      ],
      "text/plain": [
       "grp  iteration      CR_A      CR_B\n",
       "0            0  0.007293  0.007239"
      ]
     },
     "execution_count": 36,
     "metadata": {},
     "output_type": "execute_result"
    }
   ],
   "source": [
    "metrics = test_data[test_data.iteration == 0].groupby(['grp'], as_index=False)['is_conv'].agg('mean').assign(iteration=0) \\\n",
    "            .pivot(columns='grp', values='is_conv', index='iteration').reset_index() \\\n",
    "            .rename(columns={'A': 'CR_A', 'B': 'CR_B'})\n",
    "metrics"
   ]
  },
  {
   "cell_type": "markdown",
   "metadata": {},
   "source": [
    "Добавим Pvalue конверсии, посчитанное методом Хи-квадрат"
   ]
  },
  {
   "cell_type": "code",
   "execution_count": 37,
   "metadata": {},
   "outputs": [
    {
     "data": {
      "text/html": [
       "<div>\n",
       "<style scoped>\n",
       "    .dataframe tbody tr th:only-of-type {\n",
       "        vertical-align: middle;\n",
       "    }\n",
       "\n",
       "    .dataframe tbody tr th {\n",
       "        vertical-align: top;\n",
       "    }\n",
       "\n",
       "    .dataframe thead th {\n",
       "        text-align: right;\n",
       "    }\n",
       "</style>\n",
       "<table border=\"1\" class=\"dataframe\">\n",
       "  <thead>\n",
       "    <tr style=\"text-align: right;\">\n",
       "      <th>grp</th>\n",
       "      <th>iteration</th>\n",
       "      <th>CR_A</th>\n",
       "      <th>CR_B</th>\n",
       "      <th>CR_Pvalue</th>\n",
       "    </tr>\n",
       "  </thead>\n",
       "  <tbody>\n",
       "    <tr>\n",
       "      <th>0</th>\n",
       "      <td>0</td>\n",
       "      <td>0.007293</td>\n",
       "      <td>0.007239</td>\n",
       "      <td>0.988128</td>\n",
       "    </tr>\n",
       "  </tbody>\n",
       "</table>\n",
       "</div>"
      ],
      "text/plain": [
       "grp  iteration      CR_A      CR_B  CR_Pvalue\n",
       "0            0  0.007293  0.007239   0.988128"
      ]
     },
     "execution_count": 37,
     "metadata": {},
     "output_type": "execute_result"
    }
   ],
   "source": [
    "metrics['CR_Pvalue'] = st.chi2_contingency(pd.crosstab(index=test_data[test_data.iteration == 0].is_conv, \n",
    "                                                       columns=test_data[test_data.iteration == 0].grp))[1]\n",
    "metrics"
   ]
  },
  {
   "cell_type": "markdown",
   "metadata": {},
   "source": [
    "На очереди ARPU"
   ]
  },
  {
   "cell_type": "code",
   "execution_count": 38,
   "metadata": {},
   "outputs": [
    {
     "data": {
      "text/html": [
       "<div>\n",
       "<style scoped>\n",
       "    .dataframe tbody tr th:only-of-type {\n",
       "        vertical-align: middle;\n",
       "    }\n",
       "\n",
       "    .dataframe tbody tr th {\n",
       "        vertical-align: top;\n",
       "    }\n",
       "\n",
       "    .dataframe thead th {\n",
       "        text-align: right;\n",
       "    }\n",
       "</style>\n",
       "<table border=\"1\" class=\"dataframe\">\n",
       "  <thead>\n",
       "    <tr style=\"text-align: right;\">\n",
       "      <th>grp</th>\n",
       "      <th>iteration</th>\n",
       "      <th>CR_A</th>\n",
       "      <th>CR_B</th>\n",
       "      <th>CR_Pvalue</th>\n",
       "      <th>ARPU_A</th>\n",
       "      <th>ARPU_B</th>\n",
       "    </tr>\n",
       "  </thead>\n",
       "  <tbody>\n",
       "    <tr>\n",
       "      <th>0</th>\n",
       "      <td>0</td>\n",
       "      <td>0.007293</td>\n",
       "      <td>0.007239</td>\n",
       "      <td>0.988128</td>\n",
       "      <td>6.277418</td>\n",
       "      <td>8.01381</td>\n",
       "    </tr>\n",
       "  </tbody>\n",
       "</table>\n",
       "</div>"
      ],
      "text/plain": [
       "grp  iteration      CR_A      CR_B  CR_Pvalue    ARPU_A   ARPU_B\n",
       "0            0  0.007293  0.007239   0.988128  6.277418  8.01381"
      ]
     },
     "execution_count": 38,
     "metadata": {},
     "output_type": "execute_result"
    }
   ],
   "source": [
    "metrics['ARPU_A'] = test_data[(test_data.iteration==0) & (test_data.grp=='A')].rev.agg('mean')\n",
    "metrics['ARPU_B'] = test_data[(test_data.iteration==0) & (test_data.grp=='B')].rev.agg('mean')\n",
    "metrics"
   ]
  },
  {
   "cell_type": "markdown",
   "metadata": {},
   "source": [
    "Так как для анализа мы использовали бутстрап, а в нем нас интересует не Pvalue, а пересекаются ли доверительные интервалы, добавим колонку, в которой будет содержатся True или False - пересекаются ли они"
   ]
  },
  {
   "cell_type": "code",
   "execution_count": 39,
   "metadata": {},
   "outputs": [
    {
     "data": {
      "text/html": [
       "<div>\n",
       "<style scoped>\n",
       "    .dataframe tbody tr th:only-of-type {\n",
       "        vertical-align: middle;\n",
       "    }\n",
       "\n",
       "    .dataframe tbody tr th {\n",
       "        vertical-align: top;\n",
       "    }\n",
       "\n",
       "    .dataframe thead th {\n",
       "        text-align: right;\n",
       "    }\n",
       "</style>\n",
       "<table border=\"1\" class=\"dataframe\">\n",
       "  <thead>\n",
       "    <tr style=\"text-align: right;\">\n",
       "      <th>grp</th>\n",
       "      <th>iteration</th>\n",
       "      <th>CR_A</th>\n",
       "      <th>CR_B</th>\n",
       "      <th>CR_Pvalue</th>\n",
       "      <th>ARPU_A</th>\n",
       "      <th>ARPU_B</th>\n",
       "      <th>ARPU_is_significant</th>\n",
       "    </tr>\n",
       "  </thead>\n",
       "  <tbody>\n",
       "    <tr>\n",
       "      <th>0</th>\n",
       "      <td>0</td>\n",
       "      <td>0.007293</td>\n",
       "      <td>0.007239</td>\n",
       "      <td>0.988128</td>\n",
       "      <td>6.277418</td>\n",
       "      <td>8.01381</td>\n",
       "      <td>False</td>\n",
       "    </tr>\n",
       "  </tbody>\n",
       "</table>\n",
       "</div>"
      ],
      "text/plain": [
       "grp  iteration      CR_A      CR_B  CR_Pvalue    ARPU_A   ARPU_B  \\\n",
       "0            0  0.007293  0.007239   0.988128  6.277418  8.01381   \n",
       "\n",
       "grp  ARPU_is_significant  \n",
       "0                  False  "
      ]
     },
     "execution_count": 39,
     "metadata": {},
     "output_type": "execute_result"
    }
   ],
   "source": [
    "boot_res_arpu_A = pg.compute_bootci(x=test_data[(test_data.iteration == 0) & (test_data.grp == 'A')].rev,\n",
    "                                    func='mean', paired=False, confidence=0.95, seed=42)\n",
    "boot_res_arpu_B = pg.compute_bootci(x=test_data[(test_data.iteration == 0) & (test_data.grp == 'B')].rev, \n",
    "                                   func='mean', paired=False, confidence=0.95, seed=42)\n",
    "\n",
    "metrics['ARPU_is_significant'] = (boot_res_arpu_A[0] > boot_res_arpu_B[1]) | \\\n",
    "    (boot_res_arpu_B[0] > boot_res_arpu_A[1])\n",
    "       \n",
    "metrics"
   ]
  },
  {
   "cell_type": "markdown",
   "metadata": {},
   "source": [
    "Проделаем то же самое с ARPPU"
   ]
  },
  {
   "cell_type": "code",
   "execution_count": 40,
   "metadata": {},
   "outputs": [
    {
     "data": {
      "text/html": [
       "<div>\n",
       "<style scoped>\n",
       "    .dataframe tbody tr th:only-of-type {\n",
       "        vertical-align: middle;\n",
       "    }\n",
       "\n",
       "    .dataframe tbody tr th {\n",
       "        vertical-align: top;\n",
       "    }\n",
       "\n",
       "    .dataframe thead th {\n",
       "        text-align: right;\n",
       "    }\n",
       "</style>\n",
       "<table border=\"1\" class=\"dataframe\">\n",
       "  <thead>\n",
       "    <tr style=\"text-align: right;\">\n",
       "      <th>grp</th>\n",
       "      <th>iteration</th>\n",
       "      <th>CR_A</th>\n",
       "      <th>CR_B</th>\n",
       "      <th>CR_Pvalue</th>\n",
       "      <th>ARPU_A</th>\n",
       "      <th>ARPU_B</th>\n",
       "      <th>ARPU_is_significant</th>\n",
       "      <th>ARPPU_A</th>\n",
       "      <th>ARPPU_B</th>\n",
       "    </tr>\n",
       "  </thead>\n",
       "  <tbody>\n",
       "    <tr>\n",
       "      <th>0</th>\n",
       "      <td>0</td>\n",
       "      <td>0.007293</td>\n",
       "      <td>0.007239</td>\n",
       "      <td>0.988128</td>\n",
       "      <td>6.277418</td>\n",
       "      <td>8.01381</td>\n",
       "      <td>False</td>\n",
       "      <td>860.71028</td>\n",
       "      <td>1106.997699</td>\n",
       "    </tr>\n",
       "  </tbody>\n",
       "</table>\n",
       "</div>"
      ],
      "text/plain": [
       "grp  iteration      CR_A      CR_B  CR_Pvalue    ARPU_A   ARPU_B  \\\n",
       "0            0  0.007293  0.007239   0.988128  6.277418  8.01381   \n",
       "\n",
       "grp  ARPU_is_significant    ARPPU_A      ARPPU_B  \n",
       "0                  False  860.71028  1106.997699  "
      ]
     },
     "execution_count": 40,
     "metadata": {},
     "output_type": "execute_result"
    }
   ],
   "source": [
    "metrics['ARPPU_A'] = test_data[(test_data.iteration==0) & (test_data.grp=='A') & (test_data.rev > 0)].rev.agg('mean')\n",
    "metrics['ARPPU_B'] = test_data[(test_data.iteration==0) & (test_data.grp=='B') & (test_data.rev > 0)].rev.agg('mean')\n",
    "metrics"
   ]
  },
  {
   "cell_type": "code",
   "execution_count": 41,
   "metadata": {},
   "outputs": [
    {
     "data": {
      "text/html": [
       "<div>\n",
       "<style scoped>\n",
       "    .dataframe tbody tr th:only-of-type {\n",
       "        vertical-align: middle;\n",
       "    }\n",
       "\n",
       "    .dataframe tbody tr th {\n",
       "        vertical-align: top;\n",
       "    }\n",
       "\n",
       "    .dataframe thead th {\n",
       "        text-align: right;\n",
       "    }\n",
       "</style>\n",
       "<table border=\"1\" class=\"dataframe\">\n",
       "  <thead>\n",
       "    <tr style=\"text-align: right;\">\n",
       "      <th>grp</th>\n",
       "      <th>iteration</th>\n",
       "      <th>CR_A</th>\n",
       "      <th>CR_B</th>\n",
       "      <th>CR_Pvalue</th>\n",
       "      <th>ARPU_A</th>\n",
       "      <th>ARPU_B</th>\n",
       "      <th>ARPU_is_significant</th>\n",
       "      <th>ARPPU_A</th>\n",
       "      <th>ARPPU_B</th>\n",
       "      <th>ARPPU_is_significant</th>\n",
       "    </tr>\n",
       "  </thead>\n",
       "  <tbody>\n",
       "    <tr>\n",
       "      <th>0</th>\n",
       "      <td>0</td>\n",
       "      <td>0.007293</td>\n",
       "      <td>0.007239</td>\n",
       "      <td>0.988128</td>\n",
       "      <td>6.277418</td>\n",
       "      <td>8.01381</td>\n",
       "      <td>False</td>\n",
       "      <td>860.71028</td>\n",
       "      <td>1106.997699</td>\n",
       "      <td>True</td>\n",
       "    </tr>\n",
       "  </tbody>\n",
       "</table>\n",
       "</div>"
      ],
      "text/plain": [
       "grp  iteration      CR_A      CR_B  CR_Pvalue    ARPU_A   ARPU_B  \\\n",
       "0            0  0.007293  0.007239   0.988128  6.277418  8.01381   \n",
       "\n",
       "grp  ARPU_is_significant    ARPPU_A      ARPPU_B  ARPPU_is_significant  \n",
       "0                  False  860.71028  1106.997699                  True  "
      ]
     },
     "execution_count": 41,
     "metadata": {},
     "output_type": "execute_result"
    }
   ],
   "source": [
    "boot_res_arppu_A = pg.compute_bootci(x=test_data[(test_data.iteration == 0) & (test_data.grp == 'A') & (test_data.rev > 0)].rev, \n",
    "                                     func='mean', paired=False, confidence=0.95, seed=42)\n",
    "\n",
    "boot_res_arppu_B = pg.compute_bootci(x=test_data[(test_data.iteration == 0) & (test_data.grp == 'B') & (test_data.rev > 0)].rev,\n",
    "                                     func='mean', paired=False, confidence=0.95, seed=42)\n",
    "\n",
    "metrics['ARPPU_is_significant'] = (boot_res_arppu_A[0] > boot_res_arppu_B[1]) | \\\n",
    "    (boot_res_arppu_B[0] > boot_res_arppu_A[1])\n",
    "       \n",
    "metrics"
   ]
  },
  {
   "cell_type": "code",
   "execution_count": 42,
   "metadata": {},
   "outputs": [
    {
     "data": {
      "text/html": [
       "<div>\n",
       "<style scoped>\n",
       "    .dataframe tbody tr th:only-of-type {\n",
       "        vertical-align: middle;\n",
       "    }\n",
       "\n",
       "    .dataframe tbody tr th {\n",
       "        vertical-align: top;\n",
       "    }\n",
       "\n",
       "    .dataframe thead th {\n",
       "        text-align: right;\n",
       "    }\n",
       "</style>\n",
       "<table border=\"1\" class=\"dataframe\">\n",
       "  <thead>\n",
       "    <tr style=\"text-align: right;\">\n",
       "      <th>grp</th>\n",
       "      <th>iteration</th>\n",
       "      <th>CR_A</th>\n",
       "      <th>CR_B</th>\n",
       "      <th>CR_Pvalue</th>\n",
       "      <th>ARPU_A</th>\n",
       "      <th>ARPU_B</th>\n",
       "      <th>ARPU_is_significant</th>\n",
       "      <th>ARPPU_A</th>\n",
       "      <th>ARPPU_B</th>\n",
       "      <th>ARPPU_is_significant</th>\n",
       "    </tr>\n",
       "  </thead>\n",
       "  <tbody>\n",
       "    <tr>\n",
       "      <th>0</th>\n",
       "      <td>0</td>\n",
       "      <td>0.007293</td>\n",
       "      <td>0.007239</td>\n",
       "      <td>0.988128</td>\n",
       "      <td>6.277418</td>\n",
       "      <td>8.01381</td>\n",
       "      <td>False</td>\n",
       "      <td>860.71028</td>\n",
       "      <td>1106.997699</td>\n",
       "      <td>True</td>\n",
       "    </tr>\n",
       "  </tbody>\n",
       "</table>\n",
       "</div>"
      ],
      "text/plain": [
       "grp  iteration      CR_A      CR_B  CR_Pvalue    ARPU_A   ARPU_B  \\\n",
       "0            0  0.007293  0.007239   0.988128  6.277418  8.01381   \n",
       "\n",
       "grp  ARPU_is_significant    ARPPU_A      ARPPU_B  ARPPU_is_significant  \n",
       "0                  False  860.71028  1106.997699                  True  "
      ]
     },
     "execution_count": 42,
     "metadata": {},
     "output_type": "execute_result"
    }
   ],
   "source": [
    "metrics"
   ]
  },
  {
   "cell_type": "markdown",
   "metadata": {},
   "source": [
    "Соберем все проделанные шаги в функцию"
   ]
  },
  {
   "cell_type": "code",
   "execution_count": 43,
   "metadata": {},
   "outputs": [],
   "source": [
    "def update_metrics(data=test_data, metrics_data=metrics):\n",
    "    res = data.groupby(['grp'], as_index=False)['is_conv'].agg('mean').assign(iteration=data.iteration.max()) \\\n",
    "            .pivot(columns='grp', values='is_conv', index='iteration').reset_index() \\\n",
    "            .rename(columns={'A': 'CR_A', 'B': 'CR_B'})\n",
    "    res['CR_Pvalue'] = st.chi2_contingency(pd.crosstab(index=data.is_conv, columns=data.grp))[1]\n",
    "    \n",
    "    res['ARPU_A'] = data[data.grp=='A'].rev.agg('mean')\n",
    "    res['ARPU_B'] = data[data.grp=='B'].rev.agg('mean')\n",
    "    \n",
    "    boot_arpu_A = pg.compute_bootci(x=data[data.grp == 'A'].rev, func='mean', paired=False, confidence=0.95, seed=42)\n",
    "    boot_arpu_B = pg.compute_bootci(x=data[data.grp == 'B'].rev, func='mean', paired=False, confidence=0.95, seed=42)\n",
    "\n",
    "    res['ARPU_is_significant'] = (boot_arpu_A[0] > boot_arpu_B[1]) | \\\n",
    "    (boot_arpu_B[0] > boot_arpu_A[1])\n",
    "    \n",
    "    res['ARPPU_A'] = data[(data.grp=='A') & (data.rev > 0)].rev.agg('mean')\n",
    "    res['ARPPU_B'] = data[(data.grp=='B') & (data.rev > 0)].rev.agg('mean')\n",
    "    \n",
    "    boot_arppu_A = pg.compute_bootci(x=data[(data.grp == 'A') & (data.rev > 0)].rev,\n",
    "                                func='mean', paired=False, confidence=0.95, seed=42)\n",
    "\n",
    "    boot_arppu_B = pg.compute_bootci(x=data[(data.grp == 'B') & (data.rev > 0)].rev,\n",
    "                                func='mean', paired=False, confidence=0.95, seed=42)\n",
    "\n",
    "    res['ARPPU_is_significant'] = (boot_arppu_A[0] > boot_arppu_B[1]) | \\\n",
    "    (boot_arppu_B[0] > boot_arppu_A[1])\n",
    "    \n",
    "    return pd.concat([metrics_data, res])"
   ]
  },
  {
   "cell_type": "code",
   "execution_count": 44,
   "metadata": {},
   "outputs": [],
   "source": [
    "metrics = update_metrics(data=test_data, metrics_data=metrics)"
   ]
  },
  {
   "cell_type": "code",
   "execution_count": 45,
   "metadata": {},
   "outputs": [
    {
     "data": {
      "text/html": [
       "<div>\n",
       "<style scoped>\n",
       "    .dataframe tbody tr th:only-of-type {\n",
       "        vertical-align: middle;\n",
       "    }\n",
       "\n",
       "    .dataframe tbody tr th {\n",
       "        vertical-align: top;\n",
       "    }\n",
       "\n",
       "    .dataframe thead th {\n",
       "        text-align: right;\n",
       "    }\n",
       "</style>\n",
       "<table border=\"1\" class=\"dataframe\">\n",
       "  <thead>\n",
       "    <tr style=\"text-align: right;\">\n",
       "      <th>grp</th>\n",
       "      <th>iteration</th>\n",
       "      <th>CR_A</th>\n",
       "      <th>CR_B</th>\n",
       "      <th>CR_Pvalue</th>\n",
       "      <th>ARPU_A</th>\n",
       "      <th>ARPU_B</th>\n",
       "      <th>ARPU_is_significant</th>\n",
       "      <th>ARPPU_A</th>\n",
       "      <th>ARPPU_B</th>\n",
       "      <th>ARPPU_is_significant</th>\n",
       "    </tr>\n",
       "  </thead>\n",
       "  <tbody>\n",
       "    <tr>\n",
       "      <th>0</th>\n",
       "      <td>0</td>\n",
       "      <td>0.007293</td>\n",
       "      <td>0.007239</td>\n",
       "      <td>0.988128</td>\n",
       "      <td>6.277418</td>\n",
       "      <td>8.013810</td>\n",
       "      <td>False</td>\n",
       "      <td>860.71028</td>\n",
       "      <td>1106.997699</td>\n",
       "      <td>True</td>\n",
       "    </tr>\n",
       "    <tr>\n",
       "      <th>0</th>\n",
       "      <td>1</td>\n",
       "      <td>0.007282</td>\n",
       "      <td>0.007247</td>\n",
       "      <td>1.000000</td>\n",
       "      <td>6.268019</td>\n",
       "      <td>8.036171</td>\n",
       "      <td>False</td>\n",
       "      <td>860.71028</td>\n",
       "      <td>1108.824893</td>\n",
       "      <td>True</td>\n",
       "    </tr>\n",
       "  </tbody>\n",
       "</table>\n",
       "</div>"
      ],
      "text/plain": [
       "grp  iteration      CR_A      CR_B  CR_Pvalue    ARPU_A    ARPU_B  \\\n",
       "0            0  0.007293  0.007239   0.988128  6.277418  8.013810   \n",
       "0            1  0.007282  0.007247   1.000000  6.268019  8.036171   \n",
       "\n",
       "grp  ARPU_is_significant    ARPPU_A      ARPPU_B  ARPPU_is_significant  \n",
       "0                  False  860.71028  1106.997699                  True  \n",
       "0                  False  860.71028  1108.824893                  True  "
      ]
     },
     "execution_count": 45,
     "metadata": {},
     "output_type": "execute_result"
    }
   ],
   "source": [
    "metrics"
   ]
  },
  {
   "cell_type": "markdown",
   "metadata": {},
   "source": [
    "Теперь соберем это в функцию считывания, обработки и обновления метрик"
   ]
  },
  {
   "cell_type": "code",
   "execution_count": 46,
   "metadata": {},
   "outputs": [],
   "source": [
    "def get_new_data(file_link, test_data=test_data, metrics_data=metrics):\n",
    "    add_data = pd.read_csv(get_ya_disk(file_link))\n",
    "    add_data = make_headers_great_again(add_data)\n",
    "    \n",
    "    test_data = pd.concat([groups_full, add_data]).merge(checks, on='student_id', how='left') \\\n",
    "                            .merge(active_studs, on='student_id', how='left')\n",
    "    test_data.is_conv = add_data.rev.apply(lambda x: 1 if x > 0 else 0)\n",
    "    test_data.iteration = test_data.iteration.max() + 1\n",
    "    \n",
    "    test_data = pd.concat([test_data, add_data])\n",
    "    \n",
    "    metrics_data = update_metrics(data=test_data, metrics_data=metrics_data)\n",
    "    \n",
    "    return metrics_data\n",
    "    "
   ]
  },
  {
   "cell_type": "code",
   "execution_count": null,
   "metadata": {},
   "outputs": [],
   "source": []
  },
  {
   "cell_type": "markdown",
   "metadata": {},
   "source": [
    "Теперь релизуем функцию, которая будет строить графики"
   ]
  },
  {
   "cell_type": "code",
   "execution_count": 47,
   "metadata": {},
   "outputs": [],
   "source": [
    "def make_graphs(metrics_data=metrics):\n",
    "    \n",
    "    figure, ax = plt.subplots(2, 2, figsize=(16,10))\n",
    "    figure.suptitle('Metrics', fontsize=19)\n",
    "    \n",
    "    data_conv_graph = metrics_data[['iteration', 'CR_A', 'CR_B']].melt('iteration', var_name='group', value_name='CR')\n",
    "    data_conv_graph.group = data_conv_graph.group.apply(lambda x: 'A' if x == 'CR_A' else 'B')\n",
    "    graph_cr = sns.lineplot(data=data_conv_graph, x='iteration', y='CR', hue='group', ax=ax[0][0])\n",
    "    graph_cr = graph_cr.set_ylabel('conversion_rate')\n",
    "    \n",
    "    grapb_cr_p = sns.lineplot(data=metrics_data, x='iteration', y='CR_Pvalue', ax=ax[0][1])\n",
    "    grapb_cr_p.axhline(0.05, ls='--', linewidth=1.5, color=(1, 0, 0, 1))\n",
    "    \n",
    "    data_arpu_graph = metrics_data[['iteration', 'ARPU_A', 'ARPU_B']].melt('iteration', var_name='group', value_name='ARPU')\n",
    "    data_arpu_graph.group = data_arpu_graph.group.apply(lambda x: 'A' if x == 'ARPU_A' else 'B')\n",
    "    graph_arpu = sns.lineplot(data=data_arpu_graph, x='iteration', y='ARPU', hue='group', ax=ax[1][0])\n",
    "    graph_arpu = graph_arpu.set_ylabel('ARPU')\n",
    "    \n",
    "    data_arppu_graph = metrics_data[['iteration', 'ARPPU_A', 'ARPPU_B']].melt('iteration', var_name='group', value_name='ARPPU')\n",
    "    data_arppu_graph.group = data_arppu_graph.group.apply(lambda x: 'A' if x == 'ARPPU_A' else 'B')\n",
    "    graph_arppu = sns.lineplot(data=data_arppu_graph, x='iteration', y='ARPPU', hue='group', ax=ax[1][1])\n",
    "    graph_arppu = graph_arppu.set_ylabel('ARPPU')"
   ]
  },
  {
   "cell_type": "code",
   "execution_count": 48,
   "metadata": {},
   "outputs": [
    {
     "data": {
      "image/png": "[encoded data removed]",
      "text/plain": [
       "<Figure size 1152x720 with 4 Axes>"
      ]
     },
     "metadata": {
      "needs_background": "light"
     },
     "output_type": "display_data"
    }
   ],
   "source": [
    "make_graphs(metrics)"
   ]
  }
 ],
 "metadata": {
  "kernelspec": {
   "display_name": "Python 3",
   "language": "python",
   "name": "python3"
  },
  "language_info": {
   "codemirror_mode": {
    "name": "ipython",
    "version": 3
   },
   "file_extension": ".py",
   "mimetype": "text/x-python",
   "name": "python",
   "nbconvert_exporter": "python",
   "pygments_lexer": "ipython3",
   "version": "3.7.3"
  }
 },
 "nbformat": 4,
 "nbformat_minor": 4
}
